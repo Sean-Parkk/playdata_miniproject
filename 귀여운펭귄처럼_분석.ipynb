{
 "cells": [
  {
   "cell_type": "markdown",
   "metadata": {},
   "source": [
    "# 귀펭 (귀여운 펭귄처럼) 미니 프로젝트\n",
    "* 목적: 남부터미널 근처의 괜찮은 음식점 찾아보기\n",
    "    * 학원 근처에 맛있는 음식점은 어디일까?"
   ]
  },
  {
   "cell_type": "markdown",
   "metadata": {
    "toc": true
   },
   "source": [
    "<h1>Table of Contents<span class=\"tocSkip\"></span></h1>\n",
    "<div class=\"toc\"><ul class=\"toc-item\"><li><span><a href=\"#1.-데이터-불러오기\" data-toc-modified-id=\"1.-데이터-불러오기-1\">1. 데이터 불러오기</a></span></li><li><span><a href=\"#2.-학원-근처의-맛집-찾아보기\" data-toc-modified-id=\"2.-학원-근처의-맛집-찾아보기-2\">2. 학원 근처의 맛집 찾아보기</a></span><ul class=\"toc-item\"><li><span><a href=\"#2.1.-부적합한-카테고리-제외하기\" data-toc-modified-id=\"2.1.-부적합한-카테고리-제외하기-2.1\">2.1. 부적합한 카테고리 제외하기</a></span></li><li><span><a href=\"#2.2.-학원-근처에는-어떤-카테고리의-음식이-많을까?\" data-toc-modified-id=\"2.2.-학원-근처에는-어떤-카테고리의-음식이-많을까?-2.2\">2.2. 학원 근처에는 어떤 카테고리의 음식이 많을까?</a></span></li></ul></li></ul></div>"
   ]
  },
  {
   "cell_type": "markdown",
   "metadata": {},
   "source": [
    "## 1. 데이터 불러오기"
   ]
  },
  {
   "cell_type": "code",
   "execution_count": 55,
   "metadata": {
    "ExecuteTime": {
     "end_time": "2020-07-02T08:06:47.759630Z",
     "start_time": "2020-07-02T08:06:47.743670Z"
    }
   },
   "outputs": [],
   "source": [
    "import pandas as pd\n",
    "import numpy as np\n",
    "import matplotlib.pyplot as plt\n",
    "%matplotlib inline\n",
    "plt.style.use('seaborn-whitegrid')\n",
    "import seaborn as sns\n",
    "import warnings\n",
    "warnings.filterwarnings('ignore')\n",
    "import folium\n",
    "from tqdm import tqdm_notebook"
   ]
  },
  {
   "cell_type": "code",
   "execution_count": 56,
   "metadata": {
    "ExecuteTime": {
     "end_time": "2020-07-02T08:06:48.373847Z",
     "start_time": "2020-07-02T08:06:48.367862Z"
    }
   },
   "outputs": [],
   "source": [
    "plt.rc('font', size=13)\n",
    "plt.rc('font', family='NanumGothic')"
   ]
  },
  {
   "cell_type": "code",
   "execution_count": 3,
   "metadata": {
    "ExecuteTime": {
     "end_time": "2020-07-02T07:11:59.361816Z",
     "start_time": "2020-07-02T07:11:59.306963Z"
    }
   },
   "outputs": [],
   "source": [
    "df = pd.read_csv('source/Restaurant_analysis_miniproject/restaurant_ZMS_200701.csv')"
   ]
  },
  {
   "cell_type": "code",
   "execution_count": 4,
   "metadata": {
    "ExecuteTime": {
     "end_time": "2020-07-02T07:11:59.951189Z",
     "start_time": "2020-07-02T07:11:59.895822Z"
    }
   },
   "outputs": [
    {
     "data": {
      "text/html": [
       "<div>\n",
       "<style scoped>\n",
       "    .dataframe tbody tr th:only-of-type {\n",
       "        vertical-align: middle;\n",
       "    }\n",
       "\n",
       "    .dataframe tbody tr th {\n",
       "        vertical-align: top;\n",
       "    }\n",
       "\n",
       "    .dataframe thead th {\n",
       "        text-align: right;\n",
       "    }\n",
       "</style>\n",
       "<table border=\"1\" class=\"dataframe\">\n",
       "  <thead>\n",
       "    <tr style=\"text-align: right;\">\n",
       "      <th></th>\n",
       "      <th>name</th>\n",
       "      <th>category</th>\n",
       "      <th>address</th>\n",
       "      <th>score</th>\n",
       "      <th>eval_cnt</th>\n",
       "      <th>review_cnt</th>\n",
       "      <th>lat</th>\n",
       "      <th>lng</th>\n",
       "      <th>distance</th>\n",
       "      <th>ZMS</th>\n",
       "    </tr>\n",
       "  </thead>\n",
       "  <tbody>\n",
       "    <tr>\n",
       "      <td>0</td>\n",
       "      <td>크래프트아일랜드 강남역점</td>\n",
       "      <td>호프,요리주점</td>\n",
       "      <td>서초동 1317-32</td>\n",
       "      <td>4.8</td>\n",
       "      <td>173</td>\n",
       "      <td>292</td>\n",
       "      <td>37.498478</td>\n",
       "      <td>127.025597</td>\n",
       "      <td>1401.450583</td>\n",
       "      <td>100.00</td>\n",
       "    </tr>\n",
       "    <tr>\n",
       "      <td>1</td>\n",
       "      <td>크래버 대게나라 서초점</td>\n",
       "      <td>게,대게</td>\n",
       "      <td>서초동 1582-16</td>\n",
       "      <td>4.8</td>\n",
       "      <td>166</td>\n",
       "      <td>101</td>\n",
       "      <td>37.486660</td>\n",
       "      <td>127.010803</td>\n",
       "      <td>870.179020</td>\n",
       "      <td>98.60</td>\n",
       "    </tr>\n",
       "    <tr>\n",
       "      <td>2</td>\n",
       "      <td>미즈컨테이너 강남웨스트점</td>\n",
       "      <td>양식</td>\n",
       "      <td>서초동 1316-29</td>\n",
       "      <td>3.4</td>\n",
       "      <td>603</td>\n",
       "      <td>354</td>\n",
       "      <td>37.498270</td>\n",
       "      <td>127.025215</td>\n",
       "      <td>1369.162723</td>\n",
       "      <td>88.51</td>\n",
       "    </tr>\n",
       "    <tr>\n",
       "      <td>3</td>\n",
       "      <td>영동족발 3호점</td>\n",
       "      <td>족발,보쌈</td>\n",
       "      <td>양재동 1-8</td>\n",
       "      <td>3.5</td>\n",
       "      <td>410</td>\n",
       "      <td>105</td>\n",
       "      <td>37.484180</td>\n",
       "      <td>127.038309</td>\n",
       "      <td>1578.216483</td>\n",
       "      <td>85.02</td>\n",
       "    </tr>\n",
       "    <tr>\n",
       "      <td>4</td>\n",
       "      <td>마키노차야 역삼점</td>\n",
       "      <td>해산물뷔페</td>\n",
       "      <td>역삼동 824-46</td>\n",
       "      <td>3.6</td>\n",
       "      <td>322</td>\n",
       "      <td>210</td>\n",
       "      <td>37.498140</td>\n",
       "      <td>127.031071</td>\n",
       "      <td>1587.181976</td>\n",
       "      <td>84.38</td>\n",
       "    </tr>\n",
       "  </tbody>\n",
       "</table>\n",
       "</div>"
      ],
      "text/plain": [
       "            name category      address  score  eval_cnt  review_cnt  \\\n",
       "0  크래프트아일랜드 강남역점  호프,요리주점  서초동 1317-32    4.8       173         292   \n",
       "1   크래버 대게나라 서초점     게,대게  서초동 1582-16    4.8       166         101   \n",
       "2  미즈컨테이너 강남웨스트점       양식  서초동 1316-29    3.4       603         354   \n",
       "3       영동족발 3호점    족발,보쌈      양재동 1-8    3.5       410         105   \n",
       "4      마키노차야 역삼점    해산물뷔페   역삼동 824-46    3.6       322         210   \n",
       "\n",
       "         lat         lng     distance     ZMS  \n",
       "0  37.498478  127.025597  1401.450583  100.00  \n",
       "1  37.486660  127.010803   870.179020   98.60  \n",
       "2  37.498270  127.025215  1369.162723   88.51  \n",
       "3  37.484180  127.038309  1578.216483   85.02  \n",
       "4  37.498140  127.031071  1587.181976   84.38  "
      ]
     },
     "execution_count": 4,
     "metadata": {},
     "output_type": "execute_result"
    }
   ],
   "source": [
    "df.head()"
   ]
  },
  {
   "cell_type": "code",
   "execution_count": 43,
   "metadata": {
    "ExecuteTime": {
     "end_time": "2020-07-02T07:57:40.954229Z",
     "start_time": "2020-07-02T07:57:40.947248Z"
    }
   },
   "outputs": [
    {
     "data": {
      "text/plain": [
       "(1420, 10)"
      ]
     },
     "execution_count": 43,
     "metadata": {},
     "output_type": "execute_result"
    }
   ],
   "source": [
    "df.shape"
   ]
  },
  {
   "cell_type": "markdown",
   "metadata": {},
   "source": [
    "## 2. 학원 근처의 맛집 찾아보기\n",
    "> 학원 다니면서 점심에 꼭 가봐야할 곳은?\n",
    "\n",
    "* ZMS라는 지표를 통해 이제 어떤 음식점이 '괜찮은' 곳인지 알 수 있게 되었다.\n",
    "    * ZMS = Zon Mat Score (원래 J이지만 Z로 바꿔보았다)\n",
    "    * $ZMS = scaler\\_0\\_to\\_100(score * log(eval\\_cnt) + min\\_max\\_scaler(log(review\\_cnt)))$\n",
    "* 그러면 이제 학원 **'근처'의 기준**에 대해 정의해야한다.\n",
    "    * 여름이라는 것을 감안할 때, **직선거리로 700m 이내인 곳**으로 한정하였다.\n",
    "        * 직선거리로 700m는 **도보 기준 10분**"
   ]
  },
  {
   "cell_type": "code",
   "execution_count": 15,
   "metadata": {
    "ExecuteTime": {
     "end_time": "2020-07-02T07:48:01.938813Z",
     "start_time": "2020-07-02T07:48:01.926845Z"
    }
   },
   "outputs": [
    {
     "data": {
      "text/plain": [
       "(166, 10)"
      ]
     },
     "execution_count": 15,
     "metadata": {},
     "output_type": "execute_result"
    }
   ],
   "source": [
    "df.query('distance <= 700').shape"
   ]
  },
  {
   "cell_type": "markdown",
   "metadata": {},
   "source": [
    "* 총 1,420곳의 음식점 중, 166곳이 학원 반경 700m내에 있다."
   ]
  },
  {
   "cell_type": "code",
   "execution_count": 288,
   "metadata": {
    "ExecuteTime": {
     "end_time": "2020-07-02T08:59:28.612459Z",
     "start_time": "2020-07-02T08:59:28.582539Z"
    }
   },
   "outputs": [
    {
     "data": {
      "text/html": [
       "<div>\n",
       "<style scoped>\n",
       "    .dataframe tbody tr th:only-of-type {\n",
       "        vertical-align: middle;\n",
       "    }\n",
       "\n",
       "    .dataframe tbody tr th {\n",
       "        vertical-align: top;\n",
       "    }\n",
       "\n",
       "    .dataframe thead th {\n",
       "        text-align: right;\n",
       "    }\n",
       "</style>\n",
       "<table border=\"1\" class=\"dataframe\">\n",
       "  <thead>\n",
       "    <tr style=\"text-align: right;\">\n",
       "      <th></th>\n",
       "      <th>name</th>\n",
       "      <th>category</th>\n",
       "      <th>address</th>\n",
       "      <th>score</th>\n",
       "      <th>eval_cnt</th>\n",
       "      <th>review_cnt</th>\n",
       "      <th>lat</th>\n",
       "      <th>lng</th>\n",
       "      <th>distance</th>\n",
       "      <th>ZMS</th>\n",
       "    </tr>\n",
       "  </thead>\n",
       "  <tbody>\n",
       "    <tr>\n",
       "      <td>0</td>\n",
       "      <td>장꼬방</td>\n",
       "      <td>찌개,전골</td>\n",
       "      <td>서초동 1438-8</td>\n",
       "      <td>3.2</td>\n",
       "      <td>299</td>\n",
       "      <td>124</td>\n",
       "      <td>37.486853</td>\n",
       "      <td>127.023648</td>\n",
       "      <td>266.307713</td>\n",
       "      <td>74.12</td>\n",
       "    </tr>\n",
       "    <tr>\n",
       "      <td>1</td>\n",
       "      <td>우작설렁탕</td>\n",
       "      <td>설렁탕</td>\n",
       "      <td>서초동 1621-5</td>\n",
       "      <td>3.7</td>\n",
       "      <td>106</td>\n",
       "      <td>57</td>\n",
       "      <td>37.486157</td>\n",
       "      <td>127.016108</td>\n",
       "      <td>403.677869</td>\n",
       "      <td>69.81</td>\n",
       "    </tr>\n",
       "    <tr>\n",
       "      <td>2</td>\n",
       "      <td>루엘드파리</td>\n",
       "      <td>제과,베이커리</td>\n",
       "      <td>서초동 1445-13</td>\n",
       "      <td>3.9</td>\n",
       "      <td>72</td>\n",
       "      <td>267</td>\n",
       "      <td>37.484014</td>\n",
       "      <td>127.017342</td>\n",
       "      <td>402.732947</td>\n",
       "      <td>68.46</td>\n",
       "    </tr>\n",
       "    <tr>\n",
       "      <td>3</td>\n",
       "      <td>거북곱창</td>\n",
       "      <td>곱창,막창</td>\n",
       "      <td>서초동 1565-8</td>\n",
       "      <td>3.3</td>\n",
       "      <td>131</td>\n",
       "      <td>64</td>\n",
       "      <td>37.488994</td>\n",
       "      <td>127.013639</td>\n",
       "      <td>679.102070</td>\n",
       "      <td>65.32</td>\n",
       "    </tr>\n",
       "    <tr>\n",
       "      <td>4</td>\n",
       "      <td>레프레미스</td>\n",
       "      <td>제과,베이커리</td>\n",
       "      <td>서초동 1430-1</td>\n",
       "      <td>4.1</td>\n",
       "      <td>48</td>\n",
       "      <td>93</td>\n",
       "      <td>37.484312</td>\n",
       "      <td>127.020627</td>\n",
       "      <td>243.059959</td>\n",
       "      <td>64.69</td>\n",
       "    </tr>\n",
       "    <tr>\n",
       "      <td>5</td>\n",
       "      <td>교대곱창</td>\n",
       "      <td>곱창,막창</td>\n",
       "      <td>서초동 1578-3</td>\n",
       "      <td>3.0</td>\n",
       "      <td>159</td>\n",
       "      <td>161</td>\n",
       "      <td>37.488640</td>\n",
       "      <td>127.014238</td>\n",
       "      <td>614.892035</td>\n",
       "      <td>62.41</td>\n",
       "    </tr>\n",
       "    <tr>\n",
       "      <td>6</td>\n",
       "      <td>시골집</td>\n",
       "      <td>쌈밥</td>\n",
       "      <td>서울 서초구 반포대로10길 7</td>\n",
       "      <td>4.3</td>\n",
       "      <td>27</td>\n",
       "      <td>23</td>\n",
       "      <td>37.483737</td>\n",
       "      <td>127.012245</td>\n",
       "      <td>0.803824</td>\n",
       "      <td>57.25</td>\n",
       "    </tr>\n",
       "    <tr>\n",
       "      <td>7</td>\n",
       "      <td>삼보부대고기</td>\n",
       "      <td>찌개,전골</td>\n",
       "      <td>서초1동 1443-27</td>\n",
       "      <td>4.1</td>\n",
       "      <td>22</td>\n",
       "      <td>16</td>\n",
       "      <td>37.485368</td>\n",
       "      <td>127.019386</td>\n",
       "      <td>168.767154</td>\n",
       "      <td>51.19</td>\n",
       "    </tr>\n",
       "    <tr>\n",
       "      <td>8</td>\n",
       "      <td>바른치킨 남부터미널점</td>\n",
       "      <td>치킨</td>\n",
       "      <td>서초동 1458-6</td>\n",
       "      <td>4.2</td>\n",
       "      <td>20</td>\n",
       "      <td>28</td>\n",
       "      <td>37.484206</td>\n",
       "      <td>127.013679</td>\n",
       "      <td>666.867820</td>\n",
       "      <td>51.15</td>\n",
       "    </tr>\n",
       "    <tr>\n",
       "      <td>9</td>\n",
       "      <td>국대떡볶이 서초남부점</td>\n",
       "      <td>떡볶이</td>\n",
       "      <td>서초동 1443-1</td>\n",
       "      <td>3.4</td>\n",
       "      <td>40</td>\n",
       "      <td>8</td>\n",
       "      <td>37.485151</td>\n",
       "      <td>127.018561</td>\n",
       "      <td>238.360402</td>\n",
       "      <td>50.30</td>\n",
       "    </tr>\n",
       "  </tbody>\n",
       "</table>\n",
       "</div>"
      ],
      "text/plain": [
       "          name category           address  score  eval_cnt  review_cnt  \\\n",
       "0          장꼬방    찌개,전골        서초동 1438-8    3.2       299         124   \n",
       "1        우작설렁탕      설렁탕        서초동 1621-5    3.7       106          57   \n",
       "2        루엘드파리  제과,베이커리       서초동 1445-13    3.9        72         267   \n",
       "3         거북곱창    곱창,막창        서초동 1565-8    3.3       131          64   \n",
       "4        레프레미스  제과,베이커리        서초동 1430-1    4.1        48          93   \n",
       "5         교대곱창    곱창,막창        서초동 1578-3    3.0       159         161   \n",
       "6          시골집       쌈밥  서울 서초구 반포대로10길 7    4.3        27          23   \n",
       "7       삼보부대고기    찌개,전골      서초1동 1443-27    4.1        22          16   \n",
       "8  바른치킨 남부터미널점       치킨        서초동 1458-6    4.2        20          28   \n",
       "9  국대떡볶이 서초남부점      떡볶이        서초동 1443-1    3.4        40           8   \n",
       "\n",
       "         lat         lng    distance    ZMS  \n",
       "0  37.486853  127.023648  266.307713  74.12  \n",
       "1  37.486157  127.016108  403.677869  69.81  \n",
       "2  37.484014  127.017342  402.732947  68.46  \n",
       "3  37.488994  127.013639  679.102070  65.32  \n",
       "4  37.484312  127.020627  243.059959  64.69  \n",
       "5  37.488640  127.014238  614.892035  62.41  \n",
       "6  37.483737  127.012245    0.803824  57.25  \n",
       "7  37.485368  127.019386  168.767154  51.19  \n",
       "8  37.484206  127.013679  666.867820  51.15  \n",
       "9  37.485151  127.018561  238.360402  50.30  "
      ]
     },
     "execution_count": 288,
     "metadata": {},
     "output_type": "execute_result"
    }
   ],
   "source": [
    "df_700 = df.query('distance <= 700').reset_index(drop=True)\n",
    "df_700.head(10)"
   ]
  },
  {
   "cell_type": "markdown",
   "metadata": {},
   "source": [
    "* 가장 ZMS가 높은 곳은, 장꼬방이라는 음식점이다.\n",
    "* 그런데, 루엘드파리, 거북곱창, 바른치킨 등의 카테고리를 살펴보면,\n",
    "    * 제과, 곱창, 치킨으로 점심 식사를 하기에는 부적합하다.\n",
    "    * ~~점심에 왜 곱창을 못 먹는데?~~\n",
    "* 카테고리를 살펴보고, 점심에 먹기 부적합한 곳들은 제외하자."
   ]
  },
  {
   "cell_type": "markdown",
   "metadata": {},
   "source": [
    "### 2.1. 부적합한 카테고리 제외하기\n",
    "* 점심으로 부적합한 카테고리를 제외하자."
   ]
  },
  {
   "cell_type": "code",
   "execution_count": 297,
   "metadata": {
    "ExecuteTime": {
     "end_time": "2020-07-02T09:48:38.925346Z",
     "start_time": "2020-07-02T09:48:38.916856Z"
    }
   },
   "outputs": [
    {
     "data": {
      "text/plain": [
       "array(['호프,요리주점', '게,대게', '양식', '족발,보쌈', '해산물뷔페', '순대', '곱창,막창', '일본식라면',\n",
       "       '이탈리안', '찌개,전골', '초밥,롤', '두부전문점', '국수', '퓨전일식', '중화요리', '햄버거',\n",
       "       '냉면', '한식', '설렁탕', '육류,고기', '해물,생선', '곰탕', '제과,베이커리', '굴,전복',\n",
       "       '돈까스,우동', '닭요리', '카페', '멕시칸,브라질', '장어', '갈비', '치킨', '분식', '스테이크,립',\n",
       "       '일식', '한정식', '삼계탕', '피자', '베트남음식', '동남아음식', '테마카페', '쌈밥', '커피전문점',\n",
       "       '일본식주점', '떡볶이', '인도음식', '샤브샤브', '중식', '불고기,두루치기', '일식집', '고양이카페',\n",
       "       '디저트카페', '참치회', '오리', '샌드위치', '퓨전한식', '복어', '칵테일바', '패밀리레스토랑',\n",
       "       '국밥', '퓨전요리', '푸드코트', '양꼬치', '삼겹살', '실내포장마차', '회', '도시락', '도넛',\n",
       "       '해장국', '매운탕,해물탕', '추어', '감자탕', '아구', '북카페', '한식뷔페', '수제비',\n",
       "       '사철탕,영양탕', '와인바', '패스트푸드', '떡,한과', '조개', '죽', '생과일전문점', '해산물',\n",
       "       '뷔페', '태국음식', '만화카페', '토스트', '아이스크림', '보드카페', '술집', '퓨전중식',\n",
       "       '아시아음식', '닭강정', '오뎅바', '고기뷔페'], dtype=object)"
      ]
     },
     "execution_count": 297,
     "metadata": {},
     "output_type": "execute_result"
    }
   ],
   "source": [
    "df.category.unique()"
   ]
  },
  {
   "cell_type": "code",
   "execution_count": 361,
   "metadata": {
    "ExecuteTime": {
     "end_time": "2020-07-02T10:20:43.646456Z",
     "start_time": "2020-07-02T10:20:43.640467Z"
    }
   },
   "outputs": [],
   "source": [
    "not_lunch_cat = ['호프,요리주점', '술집', '실내포장마차', '일본식주점', '오뎅바', '와인바', '칵테일바',\n",
    "                 '참치회', '조개', '회', '양꼬치', '치킨',   '닭강정', '곱창,막창', '고기뷔페', '육류,고기',\n",
    "                 '떡,한과', '생과일전문점', '아이스크림', '디저트카페', '도넛', '만화카페', \n",
    "                 '커피전문점', '고양이카페', '테마카페', '카페', '보드카페', '북카페', '제과,베이커리', ]"
   ]
  },
  {
   "cell_type": "code",
   "execution_count": 362,
   "metadata": {
    "ExecuteTime": {
     "end_time": "2020-07-02T10:20:43.925222Z",
     "start_time": "2020-07-02T10:20:43.911259Z"
    }
   },
   "outputs": [
    {
     "data": {
      "text/plain": [
       "(93, 10)"
      ]
     },
     "execution_count": 362,
     "metadata": {},
     "output_type": "execute_result"
    }
   ],
   "source": [
    "df_700 = df_700.query(\"category not in @not_lunch_cat\")\n",
    "df_700.reset_index(inplace=True, drop=True)\n",
    "df_700.shape"
   ]
  },
  {
   "cell_type": "markdown",
   "metadata": {},
   "source": [
    "* 108곳으로 줄어들었다.\n",
    "* 아니 회를 왜 점심에 못먹어? 난 곱창 점심에도 먹는데! 라고 하실 수 있다.\n",
    "    * 인정하고 많이 생각해봤는데, 그건 억지다.\n",
    "    * 친구가 서초에 놀러와서 거긴 점심 뭐가 맛있어? 했는데\n",
    "        * 교대곱창~ 이라고 하는 것은 좀 이상하지 않나?\n",
    "* 어쩃든.. 학원 근처 best 맛집은 어디인지 추려보자.\n",
    "    "
   ]
  },
  {
   "cell_type": "markdown",
   "metadata": {},
   "source": [
    "### 2.2. 학원 근처에는 어떤 카테고리의 음식이 많을까?\n",
    "* 내 눈에는 국밥밖에 없던디"
   ]
  },
  {
   "cell_type": "code",
   "execution_count": 364,
   "metadata": {
    "ExecuteTime": {
     "end_time": "2020-07-02T10:20:51.109305Z",
     "start_time": "2020-07-02T10:20:51.089360Z"
    }
   },
   "outputs": [
    {
     "data": {
      "text/html": [
       "<div>\n",
       "<style scoped>\n",
       "    .dataframe tbody tr th:only-of-type {\n",
       "        vertical-align: middle;\n",
       "    }\n",
       "\n",
       "    .dataframe tbody tr th {\n",
       "        vertical-align: top;\n",
       "    }\n",
       "\n",
       "    .dataframe thead th {\n",
       "        text-align: right;\n",
       "    }\n",
       "</style>\n",
       "<table border=\"1\" class=\"dataframe\">\n",
       "  <thead>\n",
       "    <tr style=\"text-align: right;\">\n",
       "      <th></th>\n",
       "      <th>name</th>\n",
       "      <th>category</th>\n",
       "      <th>address</th>\n",
       "      <th>score</th>\n",
       "      <th>eval_cnt</th>\n",
       "      <th>review_cnt</th>\n",
       "      <th>lat</th>\n",
       "      <th>lng</th>\n",
       "      <th>distance</th>\n",
       "      <th>ZMS</th>\n",
       "    </tr>\n",
       "  </thead>\n",
       "  <tbody>\n",
       "    <tr>\n",
       "      <td>0</td>\n",
       "      <td>장꼬방</td>\n",
       "      <td>찌개,전골</td>\n",
       "      <td>서초동 1438-8</td>\n",
       "      <td>3.2</td>\n",
       "      <td>299</td>\n",
       "      <td>124</td>\n",
       "      <td>37.486853</td>\n",
       "      <td>127.023648</td>\n",
       "      <td>266.307713</td>\n",
       "      <td>74.12</td>\n",
       "    </tr>\n",
       "    <tr>\n",
       "      <td>1</td>\n",
       "      <td>우작설렁탕</td>\n",
       "      <td>설렁탕</td>\n",
       "      <td>서초동 1621-5</td>\n",
       "      <td>3.7</td>\n",
       "      <td>106</td>\n",
       "      <td>57</td>\n",
       "      <td>37.486157</td>\n",
       "      <td>127.016108</td>\n",
       "      <td>403.677869</td>\n",
       "      <td>69.81</td>\n",
       "    </tr>\n",
       "    <tr>\n",
       "      <td>2</td>\n",
       "      <td>시골집</td>\n",
       "      <td>쌈밥</td>\n",
       "      <td>서울 서초구 반포대로10길 7</td>\n",
       "      <td>4.3</td>\n",
       "      <td>27</td>\n",
       "      <td>23</td>\n",
       "      <td>37.483737</td>\n",
       "      <td>127.012245</td>\n",
       "      <td>0.803824</td>\n",
       "      <td>57.25</td>\n",
       "    </tr>\n",
       "    <tr>\n",
       "      <td>3</td>\n",
       "      <td>삼보부대고기</td>\n",
       "      <td>찌개,전골</td>\n",
       "      <td>서초1동 1443-27</td>\n",
       "      <td>4.1</td>\n",
       "      <td>22</td>\n",
       "      <td>16</td>\n",
       "      <td>37.485368</td>\n",
       "      <td>127.019386</td>\n",
       "      <td>168.767154</td>\n",
       "      <td>51.19</td>\n",
       "    </tr>\n",
       "    <tr>\n",
       "      <td>4</td>\n",
       "      <td>국대떡볶이 서초남부점</td>\n",
       "      <td>떡볶이</td>\n",
       "      <td>서초동 1443-1</td>\n",
       "      <td>3.4</td>\n",
       "      <td>40</td>\n",
       "      <td>8</td>\n",
       "      <td>37.485151</td>\n",
       "      <td>127.018561</td>\n",
       "      <td>238.360402</td>\n",
       "      <td>50.30</td>\n",
       "    </tr>\n",
       "  </tbody>\n",
       "</table>\n",
       "</div>"
      ],
      "text/plain": [
       "          name category           address  score  eval_cnt  review_cnt  \\\n",
       "0          장꼬방    찌개,전골        서초동 1438-8    3.2       299         124   \n",
       "1        우작설렁탕      설렁탕        서초동 1621-5    3.7       106          57   \n",
       "2          시골집       쌈밥  서울 서초구 반포대로10길 7    4.3        27          23   \n",
       "3       삼보부대고기    찌개,전골      서초1동 1443-27    4.1        22          16   \n",
       "4  국대떡볶이 서초남부점      떡볶이        서초동 1443-1    3.4        40           8   \n",
       "\n",
       "         lat         lng    distance    ZMS  \n",
       "0  37.486853  127.023648  266.307713  74.12  \n",
       "1  37.486157  127.016108  403.677869  69.81  \n",
       "2  37.483737  127.012245    0.803824  57.25  \n",
       "3  37.485368  127.019386  168.767154  51.19  \n",
       "4  37.485151  127.018561  238.360402  50.30  "
      ]
     },
     "execution_count": 364,
     "metadata": {},
     "output_type": "execute_result"
    }
   ],
   "source": [
    "df_700.head()"
   ]
  },
  {
   "cell_type": "markdown",
   "metadata": {
    "ExecuteTime": {
     "end_time": "2020-07-02T10:15:00.268915Z",
     "start_time": "2020-07-02T10:15:00.243981Z"
    }
   },
   "source": [
    "* 일단 상위 랭크된 음식점들의 카테고리를 보니, 한식이 많을 것 같다.\n",
    "* 맞는지 확인해보자."
   ]
  },
  {
   "cell_type": "code",
   "execution_count": 374,
   "metadata": {
    "ExecuteTime": {
     "end_time": "2020-07-02T10:22:19.719480Z",
     "start_time": "2020-07-02T10:22:19.039292Z"
    }
   },
   "outputs": [
    {
     "data": {
      "text/plain": [
       "(array([ 0,  1,  2,  3,  4,  5,  6,  7,  8,  9, 10, 11, 12, 13, 14, 15, 16,\n",
       "        17, 18, 19, 20, 21, 22, 23, 24, 25, 26, 27, 28, 29, 30, 31, 32, 33,\n",
       "        34, 35, 36, 37]), <a list of 38 Text xticklabel objects>)"
      ]
     },
     "execution_count": 374,
     "metadata": {},
     "output_type": "execute_result"
    },
    {
     "data": {
      "image/png": "[encoded data removed]",
      "text/plain": [
       "<Figure size 1440x360 with 1 Axes>"
      ]
     },
     "metadata": {},
     "output_type": "display_data"
    }
   ],
   "source": [
    "df_700.category.value_counts(ascending=False).plot('bar', figsize=(20, 5))\n",
    "plt.xticks(rotation=30, ha='right')"
   ]
  },
  {
   "cell_type": "markdown",
   "metadata": {},
   "source": [
    "* 의외로 중화요리가 제일 많다! 실제로 가본곳은 한 곳밖에 없는데! 몰랐다!\n",
    "    * 그리도 돈까스집이 두 번째로 많고, 초밥집도 의외로 많다.\n",
    "    * 초밥집도 두 군데밖에 못 봤는데!\n",
    "* 중화요리집의 ZMS는 어떤지 살펴보자."
   ]
  },
  {
   "cell_type": "code",
   "execution_count": 396,
   "metadata": {
    "ExecuteTime": {
     "end_time": "2020-07-02T10:43:29.610388Z",
     "start_time": "2020-07-02T10:43:29.577476Z"
    }
   },
   "outputs": [
    {
     "data": {
      "text/html": [
       "<div>\n",
       "<style scoped>\n",
       "    .dataframe tbody tr th:only-of-type {\n",
       "        vertical-align: middle;\n",
       "    }\n",
       "\n",
       "    .dataframe tbody tr th {\n",
       "        vertical-align: top;\n",
       "    }\n",
       "\n",
       "    .dataframe thead th {\n",
       "        text-align: right;\n",
       "    }\n",
       "</style>\n",
       "<table border=\"1\" class=\"dataframe\">\n",
       "  <thead>\n",
       "    <tr style=\"text-align: right;\">\n",
       "      <th></th>\n",
       "      <th>name</th>\n",
       "      <th>category</th>\n",
       "      <th>address</th>\n",
       "      <th>score</th>\n",
       "      <th>eval_cnt</th>\n",
       "      <th>review_cnt</th>\n",
       "      <th>lat</th>\n",
       "      <th>lng</th>\n",
       "      <th>distance</th>\n",
       "      <th>ZMS</th>\n",
       "    </tr>\n",
       "  </thead>\n",
       "  <tbody>\n",
       "    <tr>\n",
       "      <td>7</td>\n",
       "      <td>천지궁 서초점</td>\n",
       "      <td>중화요리</td>\n",
       "      <td>서초동 1589-8</td>\n",
       "      <td>3.5</td>\n",
       "      <td>28</td>\n",
       "      <td>23</td>\n",
       "      <td>37.485174</td>\n",
       "      <td>127.013142</td>\n",
       "      <td>679.771468</td>\n",
       "      <td>47.44</td>\n",
       "    </tr>\n",
       "    <tr>\n",
       "      <td>24</td>\n",
       "      <td>연화산</td>\n",
       "      <td>중화요리</td>\n",
       "      <td>서초동 1343-16</td>\n",
       "      <td>3.1</td>\n",
       "      <td>16</td>\n",
       "      <td>2</td>\n",
       "      <td>37.487185</td>\n",
       "      <td>127.026204</td>\n",
       "      <td>494.793723</td>\n",
       "      <td>34.23</td>\n",
       "    </tr>\n",
       "    <tr>\n",
       "      <td>29</td>\n",
       "      <td>명가교동짬뽕 서초점</td>\n",
       "      <td>중화요리</td>\n",
       "      <td>서초동 1599-2</td>\n",
       "      <td>3.0</td>\n",
       "      <td>13</td>\n",
       "      <td>4</td>\n",
       "      <td>37.486789</td>\n",
       "      <td>127.014534</td>\n",
       "      <td>541.772251</td>\n",
       "      <td>31.02</td>\n",
       "    </tr>\n",
       "    <tr>\n",
       "      <td>36</td>\n",
       "      <td>만다린</td>\n",
       "      <td>중화요리</td>\n",
       "      <td>서초동 1431-9</td>\n",
       "      <td>3.4</td>\n",
       "      <td>8</td>\n",
       "      <td>91</td>\n",
       "      <td>37.484176</td>\n",
       "      <td>127.021636</td>\n",
       "      <td>272.044145</td>\n",
       "      <td>30.29</td>\n",
       "    </tr>\n",
       "    <tr>\n",
       "      <td>52</td>\n",
       "      <td>황궁</td>\n",
       "      <td>중화요리</td>\n",
       "      <td>서초동 1601-1</td>\n",
       "      <td>2.8</td>\n",
       "      <td>10</td>\n",
       "      <td>9</td>\n",
       "      <td>37.486087</td>\n",
       "      <td>127.014473</td>\n",
       "      <td>548.085064</td>\n",
       "      <td>26.55</td>\n",
       "    </tr>\n",
       "    <tr>\n",
       "      <td>58</td>\n",
       "      <td>송쉐프 르쁘띠</td>\n",
       "      <td>중화요리</td>\n",
       "      <td>서초동 1577-6</td>\n",
       "      <td>4.3</td>\n",
       "      <td>4</td>\n",
       "      <td>18</td>\n",
       "      <td>37.489069</td>\n",
       "      <td>127.014051</td>\n",
       "      <td>649.645876</td>\n",
       "      <td>25.03</td>\n",
       "    </tr>\n",
       "    <tr>\n",
       "      <td>67</td>\n",
       "      <td>칭하이</td>\n",
       "      <td>중화요리</td>\n",
       "      <td>서초동 1443-25</td>\n",
       "      <td>2.3</td>\n",
       "      <td>9</td>\n",
       "      <td>25</td>\n",
       "      <td>37.485443</td>\n",
       "      <td>127.020136</td>\n",
       "      <td>126.228397</td>\n",
       "      <td>21.66</td>\n",
       "    </tr>\n",
       "    <tr>\n",
       "      <td>74</td>\n",
       "      <td>팔당반점 서초직영점</td>\n",
       "      <td>중화요리</td>\n",
       "      <td>서초동 1425-15</td>\n",
       "      <td>3.5</td>\n",
       "      <td>4</td>\n",
       "      <td>7</td>\n",
       "      <td>37.482749</td>\n",
       "      <td>127.019208</td>\n",
       "      <td>436.204545</td>\n",
       "      <td>20.18</td>\n",
       "    </tr>\n",
       "    <tr>\n",
       "      <td>81</td>\n",
       "      <td>강남짬뽕</td>\n",
       "      <td>중화요리</td>\n",
       "      <td>서초동 1602-10</td>\n",
       "      <td>2.0</td>\n",
       "      <td>9</td>\n",
       "      <td>24</td>\n",
       "      <td>37.485088</td>\n",
       "      <td>127.015821</td>\n",
       "      <td>455.070990</td>\n",
       "      <td>19.06</td>\n",
       "    </tr>\n",
       "    <tr>\n",
       "      <td>82</td>\n",
       "      <td>매화</td>\n",
       "      <td>중화요리</td>\n",
       "      <td>서초1동 1442-10</td>\n",
       "      <td>2.5</td>\n",
       "      <td>6</td>\n",
       "      <td>5</td>\n",
       "      <td>37.485338</td>\n",
       "      <td>127.021491</td>\n",
       "      <td>148.273532</td>\n",
       "      <td>18.56</td>\n",
       "    </tr>\n",
       "  </tbody>\n",
       "</table>\n",
       "</div>"
      ],
      "text/plain": [
       "          name category       address  score  eval_cnt  review_cnt        lat  \\\n",
       "7      천지궁 서초점     중화요리    서초동 1589-8    3.5        28          23  37.485174   \n",
       "24         연화산     중화요리   서초동 1343-16    3.1        16           2  37.487185   \n",
       "29  명가교동짬뽕 서초점     중화요리    서초동 1599-2    3.0        13           4  37.486789   \n",
       "36         만다린     중화요리    서초동 1431-9    3.4         8          91  37.484176   \n",
       "52          황궁     중화요리    서초동 1601-1    2.8        10           9  37.486087   \n",
       "58     송쉐프 르쁘띠     중화요리    서초동 1577-6    4.3         4          18  37.489069   \n",
       "67         칭하이     중화요리   서초동 1443-25    2.3         9          25  37.485443   \n",
       "74  팔당반점 서초직영점     중화요리   서초동 1425-15    3.5         4           7  37.482749   \n",
       "81        강남짬뽕     중화요리   서초동 1602-10    2.0         9          24  37.485088   \n",
       "82          매화     중화요리  서초1동 1442-10    2.5         6           5  37.485338   \n",
       "\n",
       "           lng    distance    ZMS  \n",
       "7   127.013142  679.771468  47.44  \n",
       "24  127.026204  494.793723  34.23  \n",
       "29  127.014534  541.772251  31.02  \n",
       "36  127.021636  272.044145  30.29  \n",
       "52  127.014473  548.085064  26.55  \n",
       "58  127.014051  649.645876  25.03  \n",
       "67  127.020136  126.228397  21.66  \n",
       "74  127.019208  436.204545  20.18  \n",
       "81  127.015821  455.070990  19.06  \n",
       "82  127.021491  148.273532  18.56  "
      ]
     },
     "execution_count": 396,
     "metadata": {},
     "output_type": "execute_result"
    }
   ],
   "source": [
    "df_700_ch = df_700.query('category == \"중화요리\"')\n",
    "df_700_ch"
   ]
  },
  {
   "cell_type": "markdown",
   "metadata": {},
   "source": [
    "* 10점대부터, 47점대까지 다양하게 분포되어있다.\n",
    "* 점수만 봐서는 감이 한 번에 오지는 않는데,\n",
    "    * 비교할만한 수치를 찾아보자."
   ]
  },
  {
   "cell_type": "code",
   "execution_count": 442,
   "metadata": {
    "ExecuteTime": {
     "end_time": "2020-07-02T10:52:14.445088Z",
     "start_time": "2020-07-02T10:52:14.433154Z"
    }
   },
   "outputs": [],
   "source": [
    "# ZMS분포를 기준으로 특정 음식점이 몇%인지 알기 위한 그래프 그리기 함수 정의\n",
    "\n",
    "# ZMS의 분포 그리기\n",
    "def dist_zms():\n",
    "    plt.figure(figsize=(20, 5))\n",
    "    plt.xlim(0, 100)\n",
    "    sns.distplot(df.ZMS)\n",
    "    plt.title('Distribution ZMS', pad=40)\n",
    "    plt.xlabel('')\n",
    "# 분포에 음식점 추가하기\n",
    "def add_zms(name):\n",
    "    index_ = df[df.name==name].index[0]\n",
    "    zms_ = df.iloc[index_, 9]\n",
    "\n",
    "    plt.axvline(x=zms_, color='r', ls='--')\n",
    "    plt.text(zms_, 0.04, str(round((index_+1)/len(df)*100,2))+'%', rotation=20)\n",
    "    plt.text(zms_-1, -0.001*len(name), name, rotation=-30)\n"
   ]
  },
  {
   "cell_type": "code",
   "execution_count": 443,
   "metadata": {
    "ExecuteTime": {
     "end_time": "2020-07-02T10:52:15.338960Z",
     "start_time": "2020-07-02T10:52:14.927959Z"
    }
   },
   "outputs": [
    {
     "data": {
      "image/png": "[encoded data removed]",
      "text/plain": [
       "<Figure size 1440x360 with 1 Axes>"
      ]
     },
     "metadata": {},
     "output_type": "display_data"
    }
   ],
   "source": [
    "dist_zms()"
   ]
  },
  {
   "cell_type": "markdown",
   "metadata": {},
   "source": [
    "* ZMS점수가 오른쪽으로 긴 꼬리 분포를 그리고 있으므로,\n",
    "* 평균을 사용하면 엄격한 기준이 될 것 같다.\n",
    "* 중앙값을 한번 구해보자."
   ]
  },
  {
   "cell_type": "code",
   "execution_count": 388,
   "metadata": {
    "ExecuteTime": {
     "end_time": "2020-07-02T10:41:14.604992Z",
     "start_time": "2020-07-02T10:41:14.596017Z"
    }
   },
   "outputs": [
    {
     "name": "stdout",
     "output_type": "stream",
     "text": [
      "평균: 32.78, 중앙값: 30.46\n"
     ]
    }
   ],
   "source": [
    "print('평균: {:.2f}, 중앙값: {:.2f}'.format(df.ZMS.mean(), df.ZMS.median()))"
   ]
  },
  {
   "cell_type": "markdown",
   "metadata": {},
   "source": [
    "* 중앙값은 약 30점이다.\n",
    "* ZMS가 30점보다 높은 음식점은 '괜찮은' 음식점일 가능성이 높다.\n",
    "* 이제 다시 중화요리 카테고리로 돌아와서, 30점보다 높은 곳은 어디인지 살펴보자."
   ]
  },
  {
   "cell_type": "code",
   "execution_count": 399,
   "metadata": {
    "ExecuteTime": {
     "end_time": "2020-07-02T10:44:42.956515Z",
     "start_time": "2020-07-02T10:44:42.926594Z"
    }
   },
   "outputs": [
    {
     "data": {
      "text/html": [
       "<div>\n",
       "<style scoped>\n",
       "    .dataframe tbody tr th:only-of-type {\n",
       "        vertical-align: middle;\n",
       "    }\n",
       "\n",
       "    .dataframe tbody tr th {\n",
       "        vertical-align: top;\n",
       "    }\n",
       "\n",
       "    .dataframe thead th {\n",
       "        text-align: right;\n",
       "    }\n",
       "</style>\n",
       "<table border=\"1\" class=\"dataframe\">\n",
       "  <thead>\n",
       "    <tr style=\"text-align: right;\">\n",
       "      <th></th>\n",
       "      <th>name</th>\n",
       "      <th>category</th>\n",
       "      <th>address</th>\n",
       "      <th>score</th>\n",
       "      <th>eval_cnt</th>\n",
       "      <th>review_cnt</th>\n",
       "      <th>lat</th>\n",
       "      <th>lng</th>\n",
       "      <th>distance</th>\n",
       "      <th>ZMS</th>\n",
       "    </tr>\n",
       "  </thead>\n",
       "  <tbody>\n",
       "    <tr>\n",
       "      <td>7</td>\n",
       "      <td>천지궁 서초점</td>\n",
       "      <td>중화요리</td>\n",
       "      <td>서초동 1589-8</td>\n",
       "      <td>3.5</td>\n",
       "      <td>28</td>\n",
       "      <td>23</td>\n",
       "      <td>37.485174</td>\n",
       "      <td>127.013142</td>\n",
       "      <td>679.771468</td>\n",
       "      <td>47.44</td>\n",
       "    </tr>\n",
       "    <tr>\n",
       "      <td>24</td>\n",
       "      <td>연화산</td>\n",
       "      <td>중화요리</td>\n",
       "      <td>서초동 1343-16</td>\n",
       "      <td>3.1</td>\n",
       "      <td>16</td>\n",
       "      <td>2</td>\n",
       "      <td>37.487185</td>\n",
       "      <td>127.026204</td>\n",
       "      <td>494.793723</td>\n",
       "      <td>34.23</td>\n",
       "    </tr>\n",
       "    <tr>\n",
       "      <td>29</td>\n",
       "      <td>명가교동짬뽕 서초점</td>\n",
       "      <td>중화요리</td>\n",
       "      <td>서초동 1599-2</td>\n",
       "      <td>3.0</td>\n",
       "      <td>13</td>\n",
       "      <td>4</td>\n",
       "      <td>37.486789</td>\n",
       "      <td>127.014534</td>\n",
       "      <td>541.772251</td>\n",
       "      <td>31.02</td>\n",
       "    </tr>\n",
       "  </tbody>\n",
       "</table>\n",
       "</div>"
      ],
      "text/plain": [
       "          name category      address  score  eval_cnt  review_cnt        lat  \\\n",
       "7      천지궁 서초점     중화요리   서초동 1589-8    3.5        28          23  37.485174   \n",
       "24         연화산     중화요리  서초동 1343-16    3.1        16           2  37.487185   \n",
       "29  명가교동짬뽕 서초점     중화요리   서초동 1599-2    3.0        13           4  37.486789   \n",
       "\n",
       "           lng    distance    ZMS  \n",
       "7   127.013142  679.771468  47.44  \n",
       "24  127.026204  494.793723  34.23  \n",
       "29  127.014534  541.772251  31.02  "
      ]
     },
     "execution_count": 399,
     "metadata": {},
     "output_type": "execute_result"
    }
   ],
   "source": [
    "median_ZMS = df.ZMS.median()\n",
    "df_700_ch.query('ZMS > @median_ZMS')"
   ]
  },
  {
   "cell_type": "markdown",
   "metadata": {},
   "source": [
    "* 총 10곳 중, 괜찮다고 할 만한 곳은 총 3곳이다.\n",
    "* 이 음식점들은 전체 식당 중 몇%인지 살펴보자."
   ]
  },
  {
   "cell_type": "code",
   "execution_count": 430,
   "metadata": {
    "ExecuteTime": {
     "end_time": "2020-07-02T10:50:34.111438Z",
     "start_time": "2020-07-02T10:50:33.632712Z"
    }
   },
   "outputs": [
    {
     "data": {
      "image/png": "[encoded data removed]",
      "text/plain": [
       "<Figure size 1440x360 with 1 Axes>"
      ]
     },
     "metadata": {},
     "output_type": "display_data"
    }
   ],
   "source": [
    "dist_zms()\n",
    "for ch in df_700_ch.query('ZMS > @median_ZMS').name:\n",
    "    add_zms(ch)"
   ]
  }
 ],
 "metadata": {
  "kernelspec": {
   "display_name": "Python 3",
   "language": "python",
   "name": "python3"
  },
  "language_info": {
   "codemirror_mode": {
    "name": "ipython",
    "version": 3
   },
   "file_extension": ".py",
   "mimetype": "text/x-python",
   "name": "python",
   "nbconvert_exporter": "python",
   "pygments_lexer": "ipython3",
   "version": "3.7.4"
  },
  "toc": {
   "base_numbering": 1,
   "nav_menu": {},
   "number_sections": false,
   "sideBar": true,
   "skip_h1_title": true,
   "title_cell": "Table of Contents",
   "title_sidebar": "Contents",
   "toc_cell": true,
   "toc_position": {
    "height": "calc(100% - 180px)",
    "left": "10px",
    "top": "150px",
    "width": "183px"
   },
   "toc_section_display": true,
   "toc_window_display": true
  }
 },
 "nbformat": 4,
 "nbformat_minor": 2
}
