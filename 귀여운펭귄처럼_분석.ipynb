{
 "cells": [
  {
   "cell_type": "markdown",
   "metadata": {},
   "source": [
    "# 귀펭 (귀여운 펭귄처럼) 미니 프로젝트\n",
    "* 목적: 남부터미널 근처의 괜찮은 음식점 찾아보기"
   ]
  },
  {
   "cell_type": "markdown",
   "metadata": {
    "toc": true
   },
   "source": [
    "<h1>Table of Contents<span class=\"tocSkip\"></span></h1>\n",
    "<div class=\"toc\"><ul class=\"toc-item\"><li><span><a href=\"#1.-데이터-불러오기\" data-toc-modified-id=\"1.-데이터-불러오기-1\">1. 데이터 불러오기</a></span></li><li><span><a href=\"#2.-데이터-전처리\" data-toc-modified-id=\"2.-데이터-전처리-2\">2. 데이터 전처리</a></span><ul class=\"toc-item\"><li><span><a href=\"#2.1-컬럼명-통일\" data-toc-modified-id=\"2.1-컬럼명-통일-2.1\">2.1 컬럼명 통일</a></span></li><li><span><a href=\"#2.2-결측값-처리\" data-toc-modified-id=\"2.2-결측값-처리-2.2\">2.2 결측값 처리</a></span></li><li><span><a href=\"#2.2-address-컬럼\" data-toc-modified-id=\"2.2-address-컬럼-2.3\">2.2 address 컬럼</a></span></li><li><span><a href=\"#2.3-eval_cnt,-review_cnt\" data-toc-modified-id=\"2.3-eval_cnt,-review_cnt-2.4\">2.3 eval_cnt, review_cnt</a></span><ul class=\"toc-item\"><li><span><a href=\"#2.3.1-eval_cnt\" data-toc-modified-id=\"2.3.1-eval_cnt-2.4.1\">2.3.1 eval_cnt</a></span></li><li><span><a href=\"#2.3.2-review_cnt\" data-toc-modified-id=\"2.3.2-review_cnt-2.4.2\">2.3.2 review_cnt</a></span></li><li><span><a href=\"#2.3.3-이상값-처리\" data-toc-modified-id=\"2.3.3-이상값-처리-2.4.3\">2.3.3 이상값 처리</a></span></li><li><span><a href=\"#2.3.4-컬럼-데이터-형식-변경\" data-toc-modified-id=\"2.3.4-컬럼-데이터-형식-변경-2.4.4\">2.3.4 컬럼 데이터 형식 변경</a></span></li></ul></li><li><span><a href=\"#2.4-지리-정보-추가하기\" data-toc-modified-id=\"2.4-지리-정보-추가하기-2.5\">2.4 지리 정보 추가하기</a></span></li><li><span><a href=\"#2.5-diatance-컬럼-추가\" data-toc-modified-id=\"2.5-diatance-컬럼-추가-2.6\">2.5 diatance 컬럼 추가</a></span></li><li><span><a href=\"#2.5-저장하기\" data-toc-modified-id=\"2.5-저장하기-2.7\">2.5 저장하기</a></span></li></ul></li><li><span><a href=\"#3.-데이터-살펴보기\" data-toc-modified-id=\"3.-데이터-살펴보기-3\">3. 데이터 살펴보기</a></span><ul class=\"toc-item\"><li><span><a href=\"#3.1-데이터-분포\" data-toc-modified-id=\"3.1-데이터-분포-3.1\">3.1 데이터 분포</a></span></li><li><span><a href=\"#3.2-필터링\" data-toc-modified-id=\"3.2-필터링-3.2\">3.2 필터링</a></span></li></ul></li><li><span><a href=\"#4.-지표-설정\" data-toc-modified-id=\"4.-지표-설정-4\">4. 지표 설정</a></span></li></ul></div>"
   ]
  },
  {
   "cell_type": "markdown",
   "metadata": {},
   "source": [
    "## 1. 데이터 불러오기"
   ]
  },
  {
   "cell_type": "code",
   "execution_count": 1,
   "metadata": {
    "ExecuteTime": {
     "end_time": "2020-07-01T00:24:46.105408Z",
     "start_time": "2020-07-01T00:24:40.561226Z"
    }
   },
   "outputs": [],
   "source": [
    "import pandas as pd\n",
    "import matplotlib.pyplot as plt\n",
    "%matplotlib inline\n",
    "plt.style.use('seaborn-whitegrid')\n",
    "import seaborn as sns\n",
    "import warnings\n",
    "warnings.filterwarnings('ignore')\n",
    "import folium\n",
    "from tqdm import tqdm_notebook"
   ]
  },
  {
   "cell_type": "code",
   "execution_count": 2,
   "metadata": {
    "ExecuteTime": {
     "end_time": "2020-07-01T00:24:46.114384Z",
     "start_time": "2020-07-01T00:24:46.109401Z"
    }
   },
   "outputs": [],
   "source": [
    "plt.rc('font', size=13)\n",
    "plt.rc('font', family='NanumGothic')"
   ]
  },
  {
   "cell_type": "code",
   "execution_count": 3,
   "metadata": {
    "ExecuteTime": {
     "end_time": "2020-07-01T00:24:46.234067Z",
     "start_time": "2020-07-01T00:24:46.118376Z"
    }
   },
   "outputs": [
    {
     "data": {
      "text/html": [
       "<div>\n",
       "<style scoped>\n",
       "    .dataframe tbody tr th:only-of-type {\n",
       "        vertical-align: middle;\n",
       "    }\n",
       "\n",
       "    .dataframe tbody tr th {\n",
       "        vertical-align: top;\n",
       "    }\n",
       "\n",
       "    .dataframe thead th {\n",
       "        text-align: right;\n",
       "    }\n",
       "</style>\n",
       "<table border=\"1\" class=\"dataframe\">\n",
       "  <thead>\n",
       "    <tr style=\"text-align: right;\">\n",
       "      <th></th>\n",
       "      <th>name</th>\n",
       "      <th>category</th>\n",
       "      <th>address</th>\n",
       "      <th>score</th>\n",
       "      <th>eval_cnt</th>\n",
       "      <th>review_cnt</th>\n",
       "    </tr>\n",
       "  </thead>\n",
       "  <tbody>\n",
       "    <tr>\n",
       "      <td>0</td>\n",
       "      <td>루엘드파리</td>\n",
       "      <td>제과,베이커리</td>\n",
       "      <td>(지번) 서초동 1445-13</td>\n",
       "      <td>3.9</td>\n",
       "      <td>72건</td>\n",
       "      <td>리뷰 267</td>\n",
       "    </tr>\n",
       "    <tr>\n",
       "      <td>1</td>\n",
       "      <td>봉산옥 서초동본점</td>\n",
       "      <td>국수</td>\n",
       "      <td>(지번) 서초3동 1451-9</td>\n",
       "      <td>3.7</td>\n",
       "      <td>79건</td>\n",
       "      <td>리뷰 146</td>\n",
       "    </tr>\n",
       "    <tr>\n",
       "      <td>2</td>\n",
       "      <td>장꼬방</td>\n",
       "      <td>찌개,전골</td>\n",
       "      <td>(지번) 서초동 1438-8</td>\n",
       "      <td>3.2</td>\n",
       "      <td>299건</td>\n",
       "      <td>리뷰 124</td>\n",
       "    </tr>\n",
       "    <tr>\n",
       "      <td>3</td>\n",
       "      <td>해담채 남부터미널점</td>\n",
       "      <td>해물,생선</td>\n",
       "      <td>(지번) 서초동 1600-9</td>\n",
       "      <td>3.1</td>\n",
       "      <td>10건</td>\n",
       "      <td>리뷰 47</td>\n",
       "    </tr>\n",
       "    <tr>\n",
       "      <td>4</td>\n",
       "      <td>카페로비</td>\n",
       "      <td>디저트카페</td>\n",
       "      <td>(지번) 서초동 1564-4</td>\n",
       "      <td>3.9</td>\n",
       "      <td>15건</td>\n",
       "      <td>리뷰 126</td>\n",
       "    </tr>\n",
       "  </tbody>\n",
       "</table>\n",
       "</div>"
      ],
      "text/plain": [
       "         name category           address  score eval_cnt review_cnt\n",
       "0       루엘드파리  제과,베이커리  (지번) 서초동 1445-13    3.9      72건     리뷰 267\n",
       "1   봉산옥 서초동본점       국수  (지번) 서초3동 1451-9    3.7      79건     리뷰 146\n",
       "2         장꼬방    찌개,전골   (지번) 서초동 1438-8    3.2     299건     리뷰 124\n",
       "3  해담채 남부터미널점    해물,생선   (지번) 서초동 1600-9    3.1      10건      리뷰 47\n",
       "4        카페로비    디저트카페   (지번) 서초동 1564-4    3.9      15건     리뷰 126"
      ]
     },
     "execution_count": 3,
     "metadata": {},
     "output_type": "execute_result"
    }
   ],
   "source": [
    "# 내가 크롤링한 데이터\n",
    "df1 = pd.read_csv('source/Restaurant_analysis_miniproject/restaurant_raw_200630.csv', index_col=0)\n",
    "df1.head()"
   ]
  },
  {
   "cell_type": "code",
   "execution_count": 4,
   "metadata": {
    "ExecuteTime": {
     "end_time": "2020-07-01T00:24:46.285927Z",
     "start_time": "2020-07-01T00:24:46.238055Z"
    }
   },
   "outputs": [
    {
     "data": {
      "text/html": [
       "<div>\n",
       "<style scoped>\n",
       "    .dataframe tbody tr th:only-of-type {\n",
       "        vertical-align: middle;\n",
       "    }\n",
       "\n",
       "    .dataframe tbody tr th {\n",
       "        vertical-align: top;\n",
       "    }\n",
       "\n",
       "    .dataframe thead th {\n",
       "        text-align: right;\n",
       "    }\n",
       "</style>\n",
       "<table border=\"1\" class=\"dataframe\">\n",
       "  <thead>\n",
       "    <tr style=\"text-align: right;\">\n",
       "      <th></th>\n",
       "      <th>name</th>\n",
       "      <th>category</th>\n",
       "      <th>star</th>\n",
       "      <th>star_count</th>\n",
       "      <th>review</th>\n",
       "      <th>address</th>\n",
       "      <th>lat</th>\n",
       "      <th>lng</th>\n",
       "    </tr>\n",
       "  </thead>\n",
       "  <tbody>\n",
       "    <tr>\n",
       "      <td>0</td>\n",
       "      <td>교대곱창</td>\n",
       "      <td>곱창,막창</td>\n",
       "      <td>3.0</td>\n",
       "      <td>159건</td>\n",
       "      <td>161</td>\n",
       "      <td>서울 서초구 서초중앙로 77</td>\n",
       "      <td>37.488679</td>\n",
       "      <td>127.014252</td>\n",
       "    </tr>\n",
       "    <tr>\n",
       "      <td>1</td>\n",
       "      <td>탐라도야지</td>\n",
       "      <td>육류,고기</td>\n",
       "      <td>4.0</td>\n",
       "      <td>70건</td>\n",
       "      <td>220</td>\n",
       "      <td>서울 서초구 서초대로50길 82</td>\n",
       "      <td>37.489595</td>\n",
       "      <td>127.013561</td>\n",
       "    </tr>\n",
       "    <tr>\n",
       "      <td>2</td>\n",
       "      <td>장꼬방</td>\n",
       "      <td>찌개,전골</td>\n",
       "      <td>3.2</td>\n",
       "      <td>299건</td>\n",
       "      <td>122</td>\n",
       "      <td>서울 서초구 효령로 364</td>\n",
       "      <td>37.486893</td>\n",
       "      <td>127.023663</td>\n",
       "    </tr>\n",
       "    <tr>\n",
       "      <td>3</td>\n",
       "      <td>해담채 남부터미널점</td>\n",
       "      <td>해물,생선</td>\n",
       "      <td>3.1</td>\n",
       "      <td>10건</td>\n",
       "      <td>47</td>\n",
       "      <td>서울 서초구 서초중앙로5길 10-8 쁘띠오피스텔 지하1층</td>\n",
       "      <td>37.485865</td>\n",
       "      <td>127.015100</td>\n",
       "    </tr>\n",
       "    <tr>\n",
       "      <td>4</td>\n",
       "      <td>카페로비</td>\n",
       "      <td>디저트카페</td>\n",
       "      <td>3.9</td>\n",
       "      <td>15건</td>\n",
       "      <td>127</td>\n",
       "      <td>서울 서초구 반포대로20길 53 1층</td>\n",
       "      <td>37.488535</td>\n",
       "      <td>127.012781</td>\n",
       "    </tr>\n",
       "  </tbody>\n",
       "</table>\n",
       "</div>"
      ],
      "text/plain": [
       "         name category  star star_count  review  \\\n",
       "0        교대곱창    곱창,막창   3.0       159건     161   \n",
       "1       탐라도야지    육류,고기   4.0        70건     220   \n",
       "2         장꼬방    찌개,전골   3.2       299건     122   \n",
       "3  해담채 남부터미널점    해물,생선   3.1        10건      47   \n",
       "4        카페로비    디저트카페   3.9        15건     127   \n",
       "\n",
       "                           address        lat         lng  \n",
       "0                  서울 서초구 서초중앙로 77  37.488679  127.014252  \n",
       "1                서울 서초구 서초대로50길 82  37.489595  127.013561  \n",
       "2                   서울 서초구 효령로 364  37.486893  127.023663  \n",
       "3  서울 서초구 서초중앙로5길 10-8 쁘띠오피스텔 지하1층  37.485865  127.015100  \n",
       "4             서울 서초구 반포대로20길 53 1층  37.488535  127.012781  "
      ]
     },
     "execution_count": 4,
     "metadata": {},
     "output_type": "execute_result"
    }
   ],
   "source": [
    "# 윤성님이 크롤링한 데이터\n",
    "df2 = pd.read_csv('source/Restaurant_analysis_miniproject/restaurant_raw_ys_0630.csv', index_col=0)\n",
    "df2.head()"
   ]
  },
  {
   "cell_type": "code",
   "execution_count": 5,
   "metadata": {
    "ExecuteTime": {
     "end_time": "2020-07-01T00:24:46.346765Z",
     "start_time": "2020-07-01T00:24:46.288919Z"
    }
   },
   "outputs": [
    {
     "data": {
      "text/html": [
       "<div>\n",
       "<style scoped>\n",
       "    .dataframe tbody tr th:only-of-type {\n",
       "        vertical-align: middle;\n",
       "    }\n",
       "\n",
       "    .dataframe tbody tr th {\n",
       "        vertical-align: top;\n",
       "    }\n",
       "\n",
       "    .dataframe thead th {\n",
       "        text-align: right;\n",
       "    }\n",
       "</style>\n",
       "<table border=\"1\" class=\"dataframe\">\n",
       "  <thead>\n",
       "    <tr style=\"text-align: right;\">\n",
       "      <th></th>\n",
       "      <th>name</th>\n",
       "      <th>category</th>\n",
       "      <th>address</th>\n",
       "      <th>score</th>\n",
       "      <th>eval_cnt</th>\n",
       "      <th>review_cnt</th>\n",
       "    </tr>\n",
       "  </thead>\n",
       "  <tbody>\n",
       "    <tr>\n",
       "      <td>0</td>\n",
       "      <td>프릳츠 양재점</td>\n",
       "      <td>카페</td>\n",
       "      <td>(지번) 서초동 1363-10</td>\n",
       "      <td>3.6</td>\n",
       "      <td>64건</td>\n",
       "      <td>리뷰 481</td>\n",
       "    </tr>\n",
       "    <tr>\n",
       "      <td>1</td>\n",
       "      <td>영동족발 본점</td>\n",
       "      <td>족발,보쌈</td>\n",
       "      <td>(지번) 양재동 1-4</td>\n",
       "      <td>3.1</td>\n",
       "      <td>71건</td>\n",
       "      <td>리뷰 116</td>\n",
       "    </tr>\n",
       "    <tr>\n",
       "      <td>2</td>\n",
       "      <td>크라이치즈버거 양재역점</td>\n",
       "      <td>햄버거</td>\n",
       "      <td>(지번) 서초동 1358-8</td>\n",
       "      <td>4.2</td>\n",
       "      <td>63건</td>\n",
       "      <td>리뷰 153</td>\n",
       "    </tr>\n",
       "    <tr>\n",
       "      <td>3</td>\n",
       "      <td>황재벌</td>\n",
       "      <td>장어</td>\n",
       "      <td>(지번) 서초동 1360-47</td>\n",
       "      <td>3.5</td>\n",
       "      <td>93건</td>\n",
       "      <td>리뷰 142</td>\n",
       "    </tr>\n",
       "    <tr>\n",
       "      <td>4</td>\n",
       "      <td>라그릴리아 양재점</td>\n",
       "      <td>이탈리안</td>\n",
       "      <td>(지번) 양재동 11-149</td>\n",
       "      <td>3.1</td>\n",
       "      <td>44건</td>\n",
       "      <td>리뷰 64</td>\n",
       "    </tr>\n",
       "  </tbody>\n",
       "</table>\n",
       "</div>"
      ],
      "text/plain": [
       "           name category           address  score eval_cnt review_cnt\n",
       "0       프릳츠 양재점       카페  (지번) 서초동 1363-10    3.6      64건     리뷰 481\n",
       "1       영동족발 본점    족발,보쌈      (지번) 양재동 1-4    3.1      71건     리뷰 116\n",
       "2  크라이치즈버거 양재역점      햄버거   (지번) 서초동 1358-8    4.2      63건     리뷰 153\n",
       "3           황재벌       장어  (지번) 서초동 1360-47    3.5      93건     리뷰 142\n",
       "4     라그릴리아 양재점     이탈리안   (지번) 양재동 11-149    3.1      44건      리뷰 64"
      ]
     },
     "execution_count": 5,
     "metadata": {},
     "output_type": "execute_result"
    }
   ],
   "source": [
    "# 서인님이 크롤링한 데이터\n",
    "df3 = pd.read_csv('source/Restaurant_analysis_miniproject/restaurant_raw_soulin.csv', index_col=0)\n",
    "df3.head()"
   ]
  },
  {
   "cell_type": "code",
   "execution_count": 6,
   "metadata": {
    "ExecuteTime": {
     "end_time": "2020-07-01T00:24:46.371697Z",
     "start_time": "2020-07-01T00:24:46.349757Z"
    }
   },
   "outputs": [],
   "source": [
    "df_temp = pd.concat([df1, df2, df3])"
   ]
  },
  {
   "cell_type": "code",
   "execution_count": 7,
   "metadata": {
    "ExecuteTime": {
     "end_time": "2020-07-01T00:24:46.388653Z",
     "start_time": "2020-07-01T00:24:46.375688Z"
    }
   },
   "outputs": [
    {
     "name": "stdout",
     "output_type": "stream",
     "text": [
      "(3929, 6)\n",
      "(708, 8)\n",
      "(510, 6)\n"
     ]
    }
   ],
   "source": [
    "for df in [df1, df2, df3]:\n",
    "    print(df.shape)"
   ]
  },
  {
   "cell_type": "markdown",
   "metadata": {},
   "source": [
    "## 2. 데이터 전처리\n",
    "* 결측값 확인하기\n",
    "* 불필요한 문자 지우기\n",
    "* 숫자 데이터는 숫자로 형식 바꿔주기\n",
    "* 두 데이터 합치기"
   ]
  },
  {
   "cell_type": "markdown",
   "metadata": {},
   "source": [
    "### 2.1 컬럼명 통일\n",
    "* 일단 데이터의 컬럼명부터 통일시키자.\n",
    "* 위치 좌표는 나중에 한 번에 가져올 것이므로, 일단 삭제하자."
   ]
  },
  {
   "cell_type": "code",
   "execution_count": 8,
   "metadata": {
    "ExecuteTime": {
     "end_time": "2020-07-01T00:24:46.404610Z",
     "start_time": "2020-07-01T00:24:46.396632Z"
    }
   },
   "outputs": [
    {
     "data": {
      "text/plain": [
       "Index(['name', 'category', 'address', 'score', 'eval_cnt', 'review_cnt'], dtype='object')"
      ]
     },
     "execution_count": 8,
     "metadata": {},
     "output_type": "execute_result"
    }
   ],
   "source": [
    "df1.columns"
   ]
  },
  {
   "cell_type": "code",
   "execution_count": 9,
   "metadata": {
    "ExecuteTime": {
     "end_time": "2020-07-01T00:24:46.418572Z",
     "start_time": "2020-07-01T00:24:46.410594Z"
    }
   },
   "outputs": [
    {
     "data": {
      "text/plain": [
       "Index(['name', 'category', 'star', 'star_count', 'review', 'address', 'lat',\n",
       "       'lng'],\n",
       "      dtype='object')"
      ]
     },
     "execution_count": 9,
     "metadata": {},
     "output_type": "execute_result"
    }
   ],
   "source": [
    "df2.columns"
   ]
  },
  {
   "cell_type": "code",
   "execution_count": 10,
   "metadata": {
    "ExecuteTime": {
     "end_time": "2020-07-01T00:24:46.432536Z",
     "start_time": "2020-07-01T00:24:46.422563Z"
    }
   },
   "outputs": [
    {
     "data": {
      "text/plain": [
       "Index(['name', 'category', 'address', 'score', 'eval_cnt', 'review_cnt'], dtype='object')"
      ]
     },
     "execution_count": 10,
     "metadata": {},
     "output_type": "execute_result"
    }
   ],
   "source": [
    "df3.columns"
   ]
  },
  {
   "cell_type": "code",
   "execution_count": 11,
   "metadata": {
    "ExecuteTime": {
     "end_time": "2020-07-01T00:24:46.470434Z",
     "start_time": "2020-07-01T00:24:46.435526Z"
    }
   },
   "outputs": [
    {
     "data": {
      "text/html": [
       "<div>\n",
       "<style scoped>\n",
       "    .dataframe tbody tr th:only-of-type {\n",
       "        vertical-align: middle;\n",
       "    }\n",
       "\n",
       "    .dataframe tbody tr th {\n",
       "        vertical-align: top;\n",
       "    }\n",
       "\n",
       "    .dataframe thead th {\n",
       "        text-align: right;\n",
       "    }\n",
       "</style>\n",
       "<table border=\"1\" class=\"dataframe\">\n",
       "  <thead>\n",
       "    <tr style=\"text-align: right;\">\n",
       "      <th></th>\n",
       "      <th>name</th>\n",
       "      <th>category</th>\n",
       "      <th>address</th>\n",
       "      <th>score</th>\n",
       "      <th>eval_cnt</th>\n",
       "      <th>review_cnt</th>\n",
       "    </tr>\n",
       "  </thead>\n",
       "  <tbody>\n",
       "    <tr>\n",
       "      <td>0</td>\n",
       "      <td>교대곱창</td>\n",
       "      <td>곱창,막창</td>\n",
       "      <td>서울 서초구 서초중앙로 77</td>\n",
       "      <td>3.0</td>\n",
       "      <td>159건</td>\n",
       "      <td>161</td>\n",
       "    </tr>\n",
       "    <tr>\n",
       "      <td>1</td>\n",
       "      <td>탐라도야지</td>\n",
       "      <td>육류,고기</td>\n",
       "      <td>서울 서초구 서초대로50길 82</td>\n",
       "      <td>4.0</td>\n",
       "      <td>70건</td>\n",
       "      <td>220</td>\n",
       "    </tr>\n",
       "  </tbody>\n",
       "</table>\n",
       "</div>"
      ],
      "text/plain": [
       "    name category            address  score eval_cnt  review_cnt\n",
       "0   교대곱창    곱창,막창    서울 서초구 서초중앙로 77    3.0     159건         161\n",
       "1  탐라도야지    육류,고기  서울 서초구 서초대로50길 82    4.0      70건         220"
      ]
     },
     "execution_count": 11,
     "metadata": {},
     "output_type": "execute_result"
    }
   ],
   "source": [
    "df2.rename(columns={'star': 'score',\n",
    "                    'star_count': 'eval_cnt',\n",
    "                    'review': 'review_cnt'\n",
    "                    },\n",
    "           inplace=True)\n",
    "df2 = df2[['name', 'category', 'address', 'score', 'eval_cnt', 'review_cnt']]\n",
    "df2.head(2)"
   ]
  },
  {
   "cell_type": "code",
   "execution_count": 12,
   "metadata": {
    "ExecuteTime": {
     "end_time": "2020-07-01T00:24:46.495369Z",
     "start_time": "2020-07-01T00:24:46.475426Z"
    }
   },
   "outputs": [
    {
     "data": {
      "text/plain": [
       "(5147, 6)"
      ]
     },
     "execution_count": 12,
     "metadata": {},
     "output_type": "execute_result"
    }
   ],
   "source": [
    "df = pd.concat([df1, df2, df3])\n",
    "df.shape"
   ]
  },
  {
   "cell_type": "code",
   "execution_count": 13,
   "metadata": {
    "ExecuteTime": {
     "end_time": "2020-07-01T00:24:46.539251Z",
     "start_time": "2020-07-01T00:24:46.499356Z"
    }
   },
   "outputs": [
    {
     "data": {
      "text/html": [
       "<div>\n",
       "<style scoped>\n",
       "    .dataframe tbody tr th:only-of-type {\n",
       "        vertical-align: middle;\n",
       "    }\n",
       "\n",
       "    .dataframe tbody tr th {\n",
       "        vertical-align: top;\n",
       "    }\n",
       "\n",
       "    .dataframe thead th {\n",
       "        text-align: right;\n",
       "    }\n",
       "</style>\n",
       "<table border=\"1\" class=\"dataframe\">\n",
       "  <thead>\n",
       "    <tr style=\"text-align: right;\">\n",
       "      <th></th>\n",
       "      <th>name</th>\n",
       "      <th>category</th>\n",
       "      <th>address</th>\n",
       "      <th>score</th>\n",
       "      <th>eval_cnt</th>\n",
       "      <th>review_cnt</th>\n",
       "    </tr>\n",
       "  </thead>\n",
       "  <tbody>\n",
       "    <tr>\n",
       "      <td>0</td>\n",
       "      <td>루엘드파리</td>\n",
       "      <td>제과,베이커리</td>\n",
       "      <td>(지번) 서초동 1445-13</td>\n",
       "      <td>3.9</td>\n",
       "      <td>72건</td>\n",
       "      <td>리뷰 267</td>\n",
       "    </tr>\n",
       "    <tr>\n",
       "      <td>1</td>\n",
       "      <td>봉산옥 서초동본점</td>\n",
       "      <td>국수</td>\n",
       "      <td>(지번) 서초3동 1451-9</td>\n",
       "      <td>3.7</td>\n",
       "      <td>79건</td>\n",
       "      <td>리뷰 146</td>\n",
       "    </tr>\n",
       "    <tr>\n",
       "      <td>2</td>\n",
       "      <td>장꼬방</td>\n",
       "      <td>찌개,전골</td>\n",
       "      <td>(지번) 서초동 1438-8</td>\n",
       "      <td>3.2</td>\n",
       "      <td>299건</td>\n",
       "      <td>리뷰 124</td>\n",
       "    </tr>\n",
       "  </tbody>\n",
       "</table>\n",
       "</div>"
      ],
      "text/plain": [
       "        name category           address  score eval_cnt review_cnt\n",
       "0      루엘드파리  제과,베이커리  (지번) 서초동 1445-13    3.9      72건     리뷰 267\n",
       "1  봉산옥 서초동본점       국수  (지번) 서초3동 1451-9    3.7      79건     리뷰 146\n",
       "2        장꼬방    찌개,전골   (지번) 서초동 1438-8    3.2     299건     리뷰 124"
      ]
     },
     "execution_count": 13,
     "metadata": {},
     "output_type": "execute_result"
    }
   ],
   "source": [
    "df.head(3)"
   ]
  },
  {
   "cell_type": "code",
   "execution_count": 14,
   "metadata": {
    "ExecuteTime": {
     "end_time": "2020-07-01T00:24:46.609063Z",
     "start_time": "2020-07-01T00:24:46.550221Z"
    }
   },
   "outputs": [
    {
     "data": {
      "text/html": [
       "<div>\n",
       "<style scoped>\n",
       "    .dataframe tbody tr th:only-of-type {\n",
       "        vertical-align: middle;\n",
       "    }\n",
       "\n",
       "    .dataframe tbody tr th {\n",
       "        vertical-align: top;\n",
       "    }\n",
       "\n",
       "    .dataframe thead th {\n",
       "        text-align: right;\n",
       "    }\n",
       "</style>\n",
       "<table border=\"1\" class=\"dataframe\">\n",
       "  <thead>\n",
       "    <tr style=\"text-align: right;\">\n",
       "      <th></th>\n",
       "      <th>name</th>\n",
       "      <th>category</th>\n",
       "      <th>address</th>\n",
       "      <th>score</th>\n",
       "      <th>eval_cnt</th>\n",
       "      <th>review_cnt</th>\n",
       "    </tr>\n",
       "  </thead>\n",
       "  <tbody>\n",
       "    <tr>\n",
       "      <td>505</td>\n",
       "      <td>돈미인</td>\n",
       "      <td>갈비</td>\n",
       "      <td>(지번) 양재동 11-149</td>\n",
       "      <td>0.0</td>\n",
       "      <td>0건</td>\n",
       "      <td>리뷰 0</td>\n",
       "    </tr>\n",
       "    <tr>\n",
       "      <td>506</td>\n",
       "      <td>서초숯불구이</td>\n",
       "      <td>한식</td>\n",
       "      <td>(지번) 서초동 1362-13</td>\n",
       "      <td>0.0</td>\n",
       "      <td>0건</td>\n",
       "      <td>리뷰 0</td>\n",
       "    </tr>\n",
       "    <tr>\n",
       "      <td>507</td>\n",
       "      <td>뽈깡</td>\n",
       "      <td>한식</td>\n",
       "      <td>(지번) 도곡동 957-11</td>\n",
       "      <td>0.0</td>\n",
       "      <td>0건</td>\n",
       "      <td>리뷰 0</td>\n",
       "    </tr>\n",
       "    <tr>\n",
       "      <td>508</td>\n",
       "      <td>노브랜드버거 양재점</td>\n",
       "      <td>햄버거</td>\n",
       "      <td>(지번) 도곡동 953-1</td>\n",
       "      <td>0.0</td>\n",
       "      <td>0건</td>\n",
       "      <td>리뷰 0</td>\n",
       "    </tr>\n",
       "    <tr>\n",
       "      <td>509</td>\n",
       "      <td>맛좋은식당</td>\n",
       "      <td>한식</td>\n",
       "      <td>(지번) 양재동 1-7</td>\n",
       "      <td>0.0</td>\n",
       "      <td>0건</td>\n",
       "      <td>리뷰 0</td>\n",
       "    </tr>\n",
       "  </tbody>\n",
       "</table>\n",
       "</div>"
      ],
      "text/plain": [
       "           name category           address  score eval_cnt review_cnt\n",
       "505         돈미인       갈비   (지번) 양재동 11-149    0.0       0건       리뷰 0\n",
       "506      서초숯불구이       한식  (지번) 서초동 1362-13    0.0       0건       리뷰 0\n",
       "507          뽈깡       한식   (지번) 도곡동 957-11    0.0       0건       리뷰 0\n",
       "508  노브랜드버거 양재점      햄버거    (지번) 도곡동 953-1    0.0       0건       리뷰 0\n",
       "509       맛좋은식당       한식      (지번) 양재동 1-7    0.0       0건       리뷰 0"
      ]
     },
     "execution_count": 14,
     "metadata": {},
     "output_type": "execute_result"
    }
   ],
   "source": [
    "df.tail()"
   ]
  },
  {
   "cell_type": "code",
   "execution_count": 15,
   "metadata": {
    "ExecuteTime": {
     "end_time": "2020-07-01T00:24:46.632002Z",
     "start_time": "2020-07-01T00:24:46.613053Z"
    }
   },
   "outputs": [
    {
     "data": {
      "text/plain": [
       "(3975, 6)"
      ]
     },
     "execution_count": 15,
     "metadata": {},
     "output_type": "execute_result"
    }
   ],
   "source": [
    "df.drop_duplicates('name', inplace=True)\n",
    "df.shape"
   ]
  },
  {
   "cell_type": "code",
   "execution_count": 16,
   "metadata": {
    "ExecuteTime": {
     "end_time": "2020-07-01T00:24:46.667907Z",
     "start_time": "2020-07-01T00:24:46.634995Z"
    }
   },
   "outputs": [
    {
     "data": {
      "text/html": [
       "<div>\n",
       "<style scoped>\n",
       "    .dataframe tbody tr th:only-of-type {\n",
       "        vertical-align: middle;\n",
       "    }\n",
       "\n",
       "    .dataframe tbody tr th {\n",
       "        vertical-align: top;\n",
       "    }\n",
       "\n",
       "    .dataframe thead th {\n",
       "        text-align: right;\n",
       "    }\n",
       "</style>\n",
       "<table border=\"1\" class=\"dataframe\">\n",
       "  <thead>\n",
       "    <tr style=\"text-align: right;\">\n",
       "      <th></th>\n",
       "      <th>name</th>\n",
       "      <th>category</th>\n",
       "      <th>address</th>\n",
       "      <th>score</th>\n",
       "      <th>eval_cnt</th>\n",
       "      <th>review_cnt</th>\n",
       "    </tr>\n",
       "  </thead>\n",
       "  <tbody>\n",
       "    <tr>\n",
       "      <td>3970</td>\n",
       "      <td>우성떡방앗간</td>\n",
       "      <td>제과,베이커리</td>\n",
       "      <td>(지번) 도곡동 934-10</td>\n",
       "      <td>0.0</td>\n",
       "      <td>0건</td>\n",
       "      <td>리뷰 0</td>\n",
       "    </tr>\n",
       "    <tr>\n",
       "      <td>3971</td>\n",
       "      <td>W라이브카페</td>\n",
       "      <td>술집</td>\n",
       "      <td>(지번) 양재동 14-19</td>\n",
       "      <td>0.0</td>\n",
       "      <td>0건</td>\n",
       "      <td>리뷰 1</td>\n",
       "    </tr>\n",
       "    <tr>\n",
       "      <td>3972</td>\n",
       "      <td>진품활어 양재본점</td>\n",
       "      <td>회</td>\n",
       "      <td>(지번) 양재동 14-2</td>\n",
       "      <td>0.0</td>\n",
       "      <td>0건</td>\n",
       "      <td>리뷰 0</td>\n",
       "    </tr>\n",
       "    <tr>\n",
       "      <td>3973</td>\n",
       "      <td>노리</td>\n",
       "      <td>카페</td>\n",
       "      <td>(지번) 도곡동 959-11</td>\n",
       "      <td>5.0</td>\n",
       "      <td>1건</td>\n",
       "      <td>리뷰 1</td>\n",
       "    </tr>\n",
       "    <tr>\n",
       "      <td>3974</td>\n",
       "      <td>양재고등학교 식당</td>\n",
       "      <td>구내식당</td>\n",
       "      <td>(지번) 서초동 1376-4</td>\n",
       "      <td>0.0</td>\n",
       "      <td>0건</td>\n",
       "      <td>리뷰 0</td>\n",
       "    </tr>\n",
       "  </tbody>\n",
       "</table>\n",
       "</div>"
      ],
      "text/plain": [
       "           name category          address  score eval_cnt review_cnt\n",
       "3970     우성떡방앗간  제과,베이커리  (지번) 도곡동 934-10    0.0       0건       리뷰 0\n",
       "3971     W라이브카페       술집   (지번) 양재동 14-19    0.0       0건       리뷰 1\n",
       "3972  진품활어 양재본점        회    (지번) 양재동 14-2    0.0       0건       리뷰 0\n",
       "3973         노리       카페  (지번) 도곡동 959-11    5.0       1건       리뷰 1\n",
       "3974  양재고등학교 식당     구내식당  (지번) 서초동 1376-4    0.0       0건       리뷰 0"
      ]
     },
     "execution_count": 16,
     "metadata": {},
     "output_type": "execute_result"
    }
   ],
   "source": [
    "df.reset_index(drop=True, inplace=True)\n",
    "df.tail()"
   ]
  },
  {
   "cell_type": "markdown",
   "metadata": {},
   "source": [
    "### 2.2 결측값 처리"
   ]
  },
  {
   "cell_type": "code",
   "execution_count": 17,
   "metadata": {
    "ExecuteTime": {
     "end_time": "2020-07-01T00:24:47.717100Z",
     "start_time": "2020-07-01T00:24:46.670898Z"
    }
   },
   "outputs": [
    {
     "data": {
      "text/plain": [
       "<matplotlib.axes._subplots.AxesSubplot at 0x23c36783308>"
      ]
     },
     "execution_count": 17,
     "metadata": {},
     "output_type": "execute_result"
    },
    {
     "data": {
      "image/png": "[encoded data removed]",
      "text/plain": [
       "<Figure size 504x216 with 3 Axes>"
      ]
     },
     "metadata": {
      "needs_background": "light"
     },
     "output_type": "display_data"
    }
   ],
   "source": [
    "import missingno as msno\n",
    "msno.bar(df, figsize=(7, 3))"
   ]
  },
  {
   "cell_type": "markdown",
   "metadata": {},
   "source": [
    "* address 에서 49개의 레코드가 빠져있다."
   ]
  },
  {
   "cell_type": "code",
   "execution_count": 18,
   "metadata": {
    "ExecuteTime": {
     "end_time": "2020-07-01T00:24:47.730068Z",
     "start_time": "2020-07-01T00:24:47.720095Z"
    }
   },
   "outputs": [],
   "source": [
    "index_ = df[df.address.isnull()].index"
   ]
  },
  {
   "cell_type": "code",
   "execution_count": 19,
   "metadata": {
    "ExecuteTime": {
     "end_time": "2020-07-01T00:24:47.750016Z",
     "start_time": "2020-07-01T00:24:47.733059Z"
    }
   },
   "outputs": [],
   "source": [
    "null_dict = {'커피829 남부터미널점': '서울 서초구 서초동 1743-1',\n",
    "             '전주콩나물해장국밥': '서울 서초구 서초동 1428-4',\n",
    "             '왕솥뚜껑생삼겹살': '서울 서초구 서초동 1428-4',\n",
    "             '만랩커피 남부터미널점': '서울 서초구 서초동 1446-11',\n",
    "             '몽돌바당': '서울 서초구 서초동 1603-3',\n",
    "             '교대불고기 교대본점': '서울 서초구 서초동 1675-7',\n",
    "             '월출설렁탕': '서울 서초구 서초동 1675-10',\n",
    "             '브라이언스버거': '서울 서초구 서초동 1676-6',\n",
    "             '일식우림': '서울 서초구 서초동 1694-13',\n",
    "             '효동전': '서울 서초구 서초동 1694-13',\n",
    "             '쉐프네포차': '서울 서초구 서초동 1676-6',\n",
    "             '소문난 숯불꼼장어쭈꾸미': '서울 서초구 서초동 1570-12',\n",
    "             '그냥찌개집 교대본점': '서울 서초구 서초동 1570-12',\n",
    "             '카루': '서울 서초구 서초동 1716-10',\n",
    "             '이찌마이 교대점': '서울 서초구 서초동 1570-12',\n",
    "             '펀비어킹 서초교대역점': '서울 서초구 서초동 1575-12',\n",
    "             '연승양곱창': '서울 서초구 서초동 24',\n",
    "             '디케': '서울 서초구 서초동 1555-15',\n",
    "             '큰집식당': '서울 서초구 서초동 1577-22',\n",
    "             '신촌떡볶이': '서울 서초구 서초동 101',\n",
    "             '직화락': '서울 서초구 서초동 1626-5',\n",
    "             '맛나스넥': '서울 서초구 서초동 927-1',\n",
    "             '피자굼터': '서울 서초구 서초2동 1333-103',\n",
    "             '갤러리지아르체': '서울 강남구 역삼동 858 강남역 신분당선지하상가',\n",
    "             '뉴욕김치찌개': '서울 강남구 역삼동 825-19 센트럴푸르지오시티',\n",
    "             '꼬닐스핫도그': '서울 서초구 서초동 1318-11',\n",
    "             '강남소바': '서울 강남구 역삼동 825-19 강남역센트럴애비뉴',\n",
    "             '소노야 강남역점': '서울 강남구 역삼동 858 신분당선 강남역',\n",
    "             '올자연식빵 강남점': '서울 서초구 서초동 1374 강남역지하상가 신분당선상가',\n",
    "             '악바리부대찌개': '서울 서초구 서초동 1317-35',\n",
    "             '소미미단팥빵 강남역점': '서울 강남구 역삼동 858 강남역지하쇼핑센터',\n",
    "             '브런치': '서울 강남구 역삼동 649-7',\n",
    "             '미스터와우 강남1호점': '서울 강남구 대치동 761',\n",
    "             '아트스시': '서울 강남구 역삼동 826-37',\n",
    "             '에스프레소진': '서울 강남구 역삼동 826-37',\n",
    "             '핑거스샌드위치': '서울 강남구 역삼동 826-37',\n",
    "             '가락시장회센터': '서울 강남구 역삼동 832-49',\n",
    "             '파리바게뜨 뱅뱅사거리점': '서울 강남구 역삼동 837-10',\n",
    "             '전주옛날집': '서울 서초구 서초동 1357-67',\n",
    "             '아라폴리': '서울 서초구 서초동 1357-65',\n",
    "             '마노핀 양재역점': '서울 강남구 도곡동 958-2',\n",
    "             '매드후라이치킨 양재역점': '서울 서초구 서초동 1363-2',\n",
    "             '시카고': '서울 서초구 서초동 1365-20',\n",
    "             '타이쇼베이스먼트': '서울 강남구 도곡1동 1',\n",
    "             '그린식품': '서울 강남구 도곡동 958-2 지하1층',\n",
    "             '국민식당': '서울 서초구 양재동 1-7',\n",
    "             '투모로우': '서울 서초구 서초동 1636-2',\n",
    "             '웅이네통닭 서초점': '서울 서초구 서초동 1524-1',\n",
    "             '을지로골뱅이': '서울 서초구 서초동 1524-1'}"
   ]
  },
  {
   "cell_type": "code",
   "execution_count": 20,
   "metadata": {
    "ExecuteTime": {
     "end_time": "2020-07-01T00:24:47.830799Z",
     "start_time": "2020-07-01T00:24:47.753006Z"
    }
   },
   "outputs": [],
   "source": [
    "index_ = df[df.address.isnull()].index\n",
    "\n",
    "for index in index_:\n",
    "    name_ = df.loc[index, 'name']\n",
    "    df.loc[index, 'address'] = null_dict[name_]"
   ]
  },
  {
   "cell_type": "markdown",
   "metadata": {},
   "source": [
    "* 직접 찾아서 주소 정보 넣어주기"
   ]
  },
  {
   "cell_type": "code",
   "execution_count": 21,
   "metadata": {
    "ExecuteTime": {
     "end_time": "2020-07-01T00:24:47.850745Z",
     "start_time": "2020-07-01T00:24:47.833793Z"
    }
   },
   "outputs": [
    {
     "data": {
      "text/html": [
       "<div>\n",
       "<style scoped>\n",
       "    .dataframe tbody tr th:only-of-type {\n",
       "        vertical-align: middle;\n",
       "    }\n",
       "\n",
       "    .dataframe tbody tr th {\n",
       "        vertical-align: top;\n",
       "    }\n",
       "\n",
       "    .dataframe thead th {\n",
       "        text-align: right;\n",
       "    }\n",
       "</style>\n",
       "<table border=\"1\" class=\"dataframe\">\n",
       "  <thead>\n",
       "    <tr style=\"text-align: right;\">\n",
       "      <th></th>\n",
       "      <th>name</th>\n",
       "      <th>category</th>\n",
       "      <th>address</th>\n",
       "      <th>score</th>\n",
       "      <th>eval_cnt</th>\n",
       "      <th>review_cnt</th>\n",
       "    </tr>\n",
       "  </thead>\n",
       "  <tbody>\n",
       "  </tbody>\n",
       "</table>\n",
       "</div>"
      ],
      "text/plain": [
       "Empty DataFrame\n",
       "Columns: [name, category, address, score, eval_cnt, review_cnt]\n",
       "Index: []"
      ]
     },
     "execution_count": 21,
     "metadata": {},
     "output_type": "execute_result"
    }
   ],
   "source": [
    "df[df.address.isnull()]"
   ]
  },
  {
   "cell_type": "markdown",
   "metadata": {},
   "source": [
    "* 결측값이 모두 처리되었다."
   ]
  },
  {
   "cell_type": "markdown",
   "metadata": {},
   "source": [
    "### 2.2 address 컬럼\n",
    "* 앞부분에 '(지번) '이 불필요하게 들어가있다. 이를 삭제하자.\n",
    "* 단, 결측값 처리 시에는 (지번)을 함께 기재하지 않았으므로, 조건문으로 필터링!"
   ]
  },
  {
   "cell_type": "code",
   "execution_count": 22,
   "metadata": {
    "ExecuteTime": {
     "end_time": "2020-07-01T00:24:47.870692Z",
     "start_time": "2020-07-01T00:24:47.853738Z"
    }
   },
   "outputs": [
    {
     "data": {
      "text/html": [
       "<div>\n",
       "<style scoped>\n",
       "    .dataframe tbody tr th:only-of-type {\n",
       "        vertical-align: middle;\n",
       "    }\n",
       "\n",
       "    .dataframe tbody tr th {\n",
       "        vertical-align: top;\n",
       "    }\n",
       "\n",
       "    .dataframe thead th {\n",
       "        text-align: right;\n",
       "    }\n",
       "</style>\n",
       "<table border=\"1\" class=\"dataframe\">\n",
       "  <thead>\n",
       "    <tr style=\"text-align: right;\">\n",
       "      <th></th>\n",
       "      <th>name</th>\n",
       "      <th>category</th>\n",
       "      <th>address</th>\n",
       "      <th>score</th>\n",
       "      <th>eval_cnt</th>\n",
       "      <th>review_cnt</th>\n",
       "    </tr>\n",
       "  </thead>\n",
       "  <tbody>\n",
       "    <tr>\n",
       "      <td>0</td>\n",
       "      <td>루엘드파리</td>\n",
       "      <td>제과,베이커리</td>\n",
       "      <td>(지번) 서초동 1445-13</td>\n",
       "      <td>3.9</td>\n",
       "      <td>72건</td>\n",
       "      <td>리뷰 267</td>\n",
       "    </tr>\n",
       "    <tr>\n",
       "      <td>1</td>\n",
       "      <td>봉산옥 서초동본점</td>\n",
       "      <td>국수</td>\n",
       "      <td>(지번) 서초3동 1451-9</td>\n",
       "      <td>3.7</td>\n",
       "      <td>79건</td>\n",
       "      <td>리뷰 146</td>\n",
       "    </tr>\n",
       "    <tr>\n",
       "      <td>2</td>\n",
       "      <td>장꼬방</td>\n",
       "      <td>찌개,전골</td>\n",
       "      <td>(지번) 서초동 1438-8</td>\n",
       "      <td>3.2</td>\n",
       "      <td>299건</td>\n",
       "      <td>리뷰 124</td>\n",
       "    </tr>\n",
       "    <tr>\n",
       "      <td>3</td>\n",
       "      <td>해담채 남부터미널점</td>\n",
       "      <td>해물,생선</td>\n",
       "      <td>(지번) 서초동 1600-9</td>\n",
       "      <td>3.1</td>\n",
       "      <td>10건</td>\n",
       "      <td>리뷰 47</td>\n",
       "    </tr>\n",
       "    <tr>\n",
       "      <td>4</td>\n",
       "      <td>카페로비</td>\n",
       "      <td>디저트카페</td>\n",
       "      <td>(지번) 서초동 1564-4</td>\n",
       "      <td>3.9</td>\n",
       "      <td>15건</td>\n",
       "      <td>리뷰 126</td>\n",
       "    </tr>\n",
       "  </tbody>\n",
       "</table>\n",
       "</div>"
      ],
      "text/plain": [
       "         name category           address  score eval_cnt review_cnt\n",
       "0       루엘드파리  제과,베이커리  (지번) 서초동 1445-13    3.9      72건     리뷰 267\n",
       "1   봉산옥 서초동본점       국수  (지번) 서초3동 1451-9    3.7      79건     리뷰 146\n",
       "2         장꼬방    찌개,전골   (지번) 서초동 1438-8    3.2     299건     리뷰 124\n",
       "3  해담채 남부터미널점    해물,생선   (지번) 서초동 1600-9    3.1      10건      리뷰 47\n",
       "4        카페로비    디저트카페   (지번) 서초동 1564-4    3.9      15건     리뷰 126"
      ]
     },
     "execution_count": 22,
     "metadata": {},
     "output_type": "execute_result"
    }
   ],
   "source": [
    "df.head()"
   ]
  },
  {
   "cell_type": "code",
   "execution_count": 23,
   "metadata": {
    "ExecuteTime": {
     "end_time": "2020-07-01T00:24:49.025610Z",
     "start_time": "2020-07-01T00:24:47.877673Z"
    }
   },
   "outputs": [
    {
     "data": {
      "text/html": [
       "<div>\n",
       "<style scoped>\n",
       "    .dataframe tbody tr th:only-of-type {\n",
       "        vertical-align: middle;\n",
       "    }\n",
       "\n",
       "    .dataframe tbody tr th {\n",
       "        vertical-align: top;\n",
       "    }\n",
       "\n",
       "    .dataframe thead th {\n",
       "        text-align: right;\n",
       "    }\n",
       "</style>\n",
       "<table border=\"1\" class=\"dataframe\">\n",
       "  <thead>\n",
       "    <tr style=\"text-align: right;\">\n",
       "      <th></th>\n",
       "      <th>name</th>\n",
       "      <th>category</th>\n",
       "      <th>address</th>\n",
       "      <th>score</th>\n",
       "      <th>eval_cnt</th>\n",
       "      <th>review_cnt</th>\n",
       "    </tr>\n",
       "  </thead>\n",
       "  <tbody>\n",
       "    <tr>\n",
       "      <td>0</td>\n",
       "      <td>루엘드파리</td>\n",
       "      <td>제과,베이커리</td>\n",
       "      <td>서초동 1445-13</td>\n",
       "      <td>3.9</td>\n",
       "      <td>72건</td>\n",
       "      <td>리뷰 267</td>\n",
       "    </tr>\n",
       "    <tr>\n",
       "      <td>1</td>\n",
       "      <td>봉산옥 서초동본점</td>\n",
       "      <td>국수</td>\n",
       "      <td>서초3동 1451-9</td>\n",
       "      <td>3.7</td>\n",
       "      <td>79건</td>\n",
       "      <td>리뷰 146</td>\n",
       "    </tr>\n",
       "    <tr>\n",
       "      <td>2</td>\n",
       "      <td>장꼬방</td>\n",
       "      <td>찌개,전골</td>\n",
       "      <td>서초동 1438-8</td>\n",
       "      <td>3.2</td>\n",
       "      <td>299건</td>\n",
       "      <td>리뷰 124</td>\n",
       "    </tr>\n",
       "    <tr>\n",
       "      <td>3</td>\n",
       "      <td>해담채 남부터미널점</td>\n",
       "      <td>해물,생선</td>\n",
       "      <td>서초동 1600-9</td>\n",
       "      <td>3.1</td>\n",
       "      <td>10건</td>\n",
       "      <td>리뷰 47</td>\n",
       "    </tr>\n",
       "    <tr>\n",
       "      <td>4</td>\n",
       "      <td>카페로비</td>\n",
       "      <td>디저트카페</td>\n",
       "      <td>서초동 1564-4</td>\n",
       "      <td>3.9</td>\n",
       "      <td>15건</td>\n",
       "      <td>리뷰 126</td>\n",
       "    </tr>\n",
       "  </tbody>\n",
       "</table>\n",
       "</div>"
      ],
      "text/plain": [
       "         name category      address  score eval_cnt review_cnt\n",
       "0       루엘드파리  제과,베이커리  서초동 1445-13    3.9      72건     리뷰 267\n",
       "1   봉산옥 서초동본점       국수  서초3동 1451-9    3.7      79건     리뷰 146\n",
       "2         장꼬방    찌개,전골   서초동 1438-8    3.2     299건     리뷰 124\n",
       "3  해담채 남부터미널점    해물,생선   서초동 1600-9    3.1      10건      리뷰 47\n",
       "4        카페로비    디저트카페   서초동 1564-4    3.9      15건     리뷰 126"
      ]
     },
     "execution_count": 23,
     "metadata": {},
     "output_type": "execute_result"
    }
   ],
   "source": [
    "for row in df.index:\n",
    "    if df.address[row][:5] == '(지번) ':\n",
    "        df.address[row] = df.address[row][5:]\n",
    "df.head()"
   ]
  },
  {
   "cell_type": "markdown",
   "metadata": {},
   "source": [
    "### 2.3 eval_cnt, review_cnt\n",
    "* 숫자와 섞여있는 문자를 삭제하고\n",
    "* 컬럼을 int형식으로 변경하자"
   ]
  },
  {
   "cell_type": "code",
   "execution_count": 24,
   "metadata": {
    "ExecuteTime": {
     "end_time": "2020-07-01T00:24:49.046551Z",
     "start_time": "2020-07-01T00:24:49.029596Z"
    }
   },
   "outputs": [
    {
     "data": {
      "text/html": [
       "<div>\n",
       "<style scoped>\n",
       "    .dataframe tbody tr th:only-of-type {\n",
       "        vertical-align: middle;\n",
       "    }\n",
       "\n",
       "    .dataframe tbody tr th {\n",
       "        vertical-align: top;\n",
       "    }\n",
       "\n",
       "    .dataframe thead th {\n",
       "        text-align: right;\n",
       "    }\n",
       "</style>\n",
       "<table border=\"1\" class=\"dataframe\">\n",
       "  <thead>\n",
       "    <tr style=\"text-align: right;\">\n",
       "      <th></th>\n",
       "      <th>name</th>\n",
       "      <th>category</th>\n",
       "      <th>address</th>\n",
       "      <th>score</th>\n",
       "      <th>eval_cnt</th>\n",
       "      <th>review_cnt</th>\n",
       "    </tr>\n",
       "  </thead>\n",
       "  <tbody>\n",
       "    <tr>\n",
       "      <td>0</td>\n",
       "      <td>루엘드파리</td>\n",
       "      <td>제과,베이커리</td>\n",
       "      <td>서초동 1445-13</td>\n",
       "      <td>3.9</td>\n",
       "      <td>72건</td>\n",
       "      <td>리뷰 267</td>\n",
       "    </tr>\n",
       "    <tr>\n",
       "      <td>1</td>\n",
       "      <td>봉산옥 서초동본점</td>\n",
       "      <td>국수</td>\n",
       "      <td>서초3동 1451-9</td>\n",
       "      <td>3.7</td>\n",
       "      <td>79건</td>\n",
       "      <td>리뷰 146</td>\n",
       "    </tr>\n",
       "    <tr>\n",
       "      <td>2</td>\n",
       "      <td>장꼬방</td>\n",
       "      <td>찌개,전골</td>\n",
       "      <td>서초동 1438-8</td>\n",
       "      <td>3.2</td>\n",
       "      <td>299건</td>\n",
       "      <td>리뷰 124</td>\n",
       "    </tr>\n",
       "  </tbody>\n",
       "</table>\n",
       "</div>"
      ],
      "text/plain": [
       "        name category      address  score eval_cnt review_cnt\n",
       "0      루엘드파리  제과,베이커리  서초동 1445-13    3.9      72건     리뷰 267\n",
       "1  봉산옥 서초동본점       국수  서초3동 1451-9    3.7      79건     리뷰 146\n",
       "2        장꼬방    찌개,전골   서초동 1438-8    3.2     299건     리뷰 124"
      ]
     },
     "execution_count": 24,
     "metadata": {},
     "output_type": "execute_result"
    }
   ],
   "source": [
    "df.head(3)"
   ]
  },
  {
   "cell_type": "markdown",
   "metadata": {},
   "source": [
    "#### 2.3.1 eval_cnt\n",
    "* 뒤의 '건'을 삭제하자.\n",
    "* 삭제 전, 해당 컬럼의 모든 레코드가 '건' 이라는 글자로 끝나는지 확인하자"
   ]
  },
  {
   "cell_type": "code",
   "execution_count": 25,
   "metadata": {
    "ExecuteTime": {
     "end_time": "2020-07-01T00:24:49.067494Z",
     "start_time": "2020-07-01T00:24:49.049542Z"
    }
   },
   "outputs": [
    {
     "data": {
      "text/plain": [
       "건    3975\n",
       "Name: eval_cnt, dtype: int64"
      ]
     },
     "execution_count": 25,
     "metadata": {},
     "output_type": "execute_result"
    }
   ],
   "source": [
    "df.eval_cnt.apply(lambda x: str(x)[-1]).value_counts()"
   ]
  },
  {
   "cell_type": "markdown",
   "metadata": {},
   "source": [
    "* eval_count는 모든 레코드에 대해 '건'을 삭제해주면 됨"
   ]
  },
  {
   "cell_type": "code",
   "execution_count": 26,
   "metadata": {
    "ExecuteTime": {
     "end_time": "2020-07-01T00:24:49.097413Z",
     "start_time": "2020-07-01T00:24:49.070485Z"
    }
   },
   "outputs": [
    {
     "data": {
      "text/html": [
       "<div>\n",
       "<style scoped>\n",
       "    .dataframe tbody tr th:only-of-type {\n",
       "        vertical-align: middle;\n",
       "    }\n",
       "\n",
       "    .dataframe tbody tr th {\n",
       "        vertical-align: top;\n",
       "    }\n",
       "\n",
       "    .dataframe thead th {\n",
       "        text-align: right;\n",
       "    }\n",
       "</style>\n",
       "<table border=\"1\" class=\"dataframe\">\n",
       "  <thead>\n",
       "    <tr style=\"text-align: right;\">\n",
       "      <th></th>\n",
       "      <th>name</th>\n",
       "      <th>category</th>\n",
       "      <th>address</th>\n",
       "      <th>score</th>\n",
       "      <th>eval_cnt</th>\n",
       "      <th>review_cnt</th>\n",
       "    </tr>\n",
       "  </thead>\n",
       "  <tbody>\n",
       "    <tr>\n",
       "      <td>0</td>\n",
       "      <td>루엘드파리</td>\n",
       "      <td>제과,베이커리</td>\n",
       "      <td>서초동 1445-13</td>\n",
       "      <td>3.9</td>\n",
       "      <td>72</td>\n",
       "      <td>리뷰 267</td>\n",
       "    </tr>\n",
       "    <tr>\n",
       "      <td>1</td>\n",
       "      <td>봉산옥 서초동본점</td>\n",
       "      <td>국수</td>\n",
       "      <td>서초3동 1451-9</td>\n",
       "      <td>3.7</td>\n",
       "      <td>79</td>\n",
       "      <td>리뷰 146</td>\n",
       "    </tr>\n",
       "    <tr>\n",
       "      <td>2</td>\n",
       "      <td>장꼬방</td>\n",
       "      <td>찌개,전골</td>\n",
       "      <td>서초동 1438-8</td>\n",
       "      <td>3.2</td>\n",
       "      <td>299</td>\n",
       "      <td>리뷰 124</td>\n",
       "    </tr>\n",
       "  </tbody>\n",
       "</table>\n",
       "</div>"
      ],
      "text/plain": [
       "        name category      address  score eval_cnt review_cnt\n",
       "0      루엘드파리  제과,베이커리  서초동 1445-13    3.9       72     리뷰 267\n",
       "1  봉산옥 서초동본점       국수  서초3동 1451-9    3.7       79     리뷰 146\n",
       "2        장꼬방    찌개,전골   서초동 1438-8    3.2      299     리뷰 124"
      ]
     },
     "execution_count": 26,
     "metadata": {},
     "output_type": "execute_result"
    }
   ],
   "source": [
    "df['eval_cnt'] = df['eval_cnt'].apply(lambda x: str(x)[:-1])\n",
    "df.head(3)"
   ]
  },
  {
   "cell_type": "markdown",
   "metadata": {},
   "source": [
    "* 삭제 완료!"
   ]
  },
  {
   "cell_type": "markdown",
   "metadata": {},
   "source": [
    "#### 2.3.2 review_cnt\n",
    "* 이 컬럼에서는 앞에 문자열이 붙어있다. 해당 문자를 삭제하자.\n",
    "* 역시 모든 레코드의 첫 두 글자가 '리뷰'로 시작하는지 먼저 확인"
   ]
  },
  {
   "cell_type": "code",
   "execution_count": 27,
   "metadata": {
    "ExecuteTime": {
     "end_time": "2020-07-01T00:24:49.117361Z",
     "start_time": "2020-07-01T00:24:49.101404Z"
    }
   },
   "outputs": [
    {
     "data": {
      "text/plain": [
       "리뷰    3962\n",
       "0       13\n",
       "Name: review_cnt, dtype: int64"
      ]
     },
     "execution_count": 27,
     "metadata": {},
     "output_type": "execute_result"
    }
   ],
   "source": [
    "df.review_cnt.apply(lambda x:str(x)[:2]).value_counts()"
   ]
  },
  {
   "cell_type": "markdown",
   "metadata": {},
   "source": [
    "* 13개의 데이터는 리뷰로 시작하지 않는다. "
   ]
  },
  {
   "cell_type": "code",
   "execution_count": 28,
   "metadata": {
    "ExecuteTime": {
     "end_time": "2020-07-01T00:24:49.274939Z",
     "start_time": "2020-07-01T00:24:49.121349Z"
    }
   },
   "outputs": [
    {
     "data": {
      "text/html": [
       "<div>\n",
       "<style scoped>\n",
       "    .dataframe tbody tr th:only-of-type {\n",
       "        vertical-align: middle;\n",
       "    }\n",
       "\n",
       "    .dataframe tbody tr th {\n",
       "        vertical-align: top;\n",
       "    }\n",
       "\n",
       "    .dataframe thead th {\n",
       "        text-align: right;\n",
       "    }\n",
       "</style>\n",
       "<table border=\"1\" class=\"dataframe\">\n",
       "  <thead>\n",
       "    <tr style=\"text-align: right;\">\n",
       "      <th></th>\n",
       "      <th>name</th>\n",
       "      <th>category</th>\n",
       "      <th>address</th>\n",
       "      <th>score</th>\n",
       "      <th>eval_cnt</th>\n",
       "      <th>review_cnt</th>\n",
       "    </tr>\n",
       "  </thead>\n",
       "  <tbody>\n",
       "    <tr>\n",
       "      <td>0</td>\n",
       "      <td>루엘드파리</td>\n",
       "      <td>제과,베이커리</td>\n",
       "      <td>서초동 1445-13</td>\n",
       "      <td>3.9</td>\n",
       "      <td>72</td>\n",
       "      <td>267</td>\n",
       "    </tr>\n",
       "    <tr>\n",
       "      <td>1</td>\n",
       "      <td>봉산옥 서초동본점</td>\n",
       "      <td>국수</td>\n",
       "      <td>서초3동 1451-9</td>\n",
       "      <td>3.7</td>\n",
       "      <td>79</td>\n",
       "      <td>146</td>\n",
       "    </tr>\n",
       "    <tr>\n",
       "      <td>2</td>\n",
       "      <td>장꼬방</td>\n",
       "      <td>찌개,전골</td>\n",
       "      <td>서초동 1438-8</td>\n",
       "      <td>3.2</td>\n",
       "      <td>299</td>\n",
       "      <td>124</td>\n",
       "    </tr>\n",
       "    <tr>\n",
       "      <td>3</td>\n",
       "      <td>해담채 남부터미널점</td>\n",
       "      <td>해물,생선</td>\n",
       "      <td>서초동 1600-9</td>\n",
       "      <td>3.1</td>\n",
       "      <td>10</td>\n",
       "      <td>47</td>\n",
       "    </tr>\n",
       "    <tr>\n",
       "      <td>4</td>\n",
       "      <td>카페로비</td>\n",
       "      <td>디저트카페</td>\n",
       "      <td>서초동 1564-4</td>\n",
       "      <td>3.9</td>\n",
       "      <td>15</td>\n",
       "      <td>126</td>\n",
       "    </tr>\n",
       "  </tbody>\n",
       "</table>\n",
       "</div>"
      ],
      "text/plain": [
       "         name category      address  score eval_cnt review_cnt\n",
       "0       루엘드파리  제과,베이커리  서초동 1445-13    3.9       72        267\n",
       "1   봉산옥 서초동본점       국수  서초3동 1451-9    3.7       79        146\n",
       "2         장꼬방    찌개,전골   서초동 1438-8    3.2      299        124\n",
       "3  해담채 남부터미널점    해물,생선   서초동 1600-9    3.1       10         47\n",
       "4        카페로비    디저트카페   서초동 1564-4    3.9       15        126"
      ]
     },
     "execution_count": 28,
     "metadata": {},
     "output_type": "execute_result"
    }
   ],
   "source": [
    "for row in df.index:\n",
    "    if df.review_cnt[row][:2] == '리뷰':\n",
    "        df.review_cnt = df.review_cnt.apply(lambda x: str(x)[3:])\n",
    "df.head()"
   ]
  },
  {
   "cell_type": "code",
   "execution_count": 29,
   "metadata": {
    "ExecuteTime": {
     "end_time": "2020-07-01T00:24:49.310844Z",
     "start_time": "2020-07-01T00:24:49.298874Z"
    }
   },
   "outputs": [
    {
     "data": {
      "text/plain": [
       "0     1379\n",
       "1      370\n",
       "2      270\n",
       "4      159\n",
       "3      159\n",
       "      ... \n",
       "91       2\n",
       "77       1\n",
       "95       1\n",
       "-1       1\n",
       "94       1\n",
       "Name: review_cnt, Length: 101, dtype: int64"
      ]
     },
     "execution_count": 29,
     "metadata": {},
     "output_type": "execute_result"
    }
   ],
   "source": [
    "df.review_cnt.apply(lambda x:str(x)[:2]).value_counts()"
   ]
  },
  {
   "cell_type": "markdown",
   "metadata": {},
   "source": [
    "#### 2.3.3 이상값 처리"
   ]
  },
  {
   "cell_type": "code",
   "execution_count": 30,
   "metadata": {
    "ExecuteTime": {
     "end_time": "2020-07-01T00:24:51.505979Z",
     "start_time": "2020-07-01T00:24:51.494014Z"
    }
   },
   "outputs": [
    {
     "data": {
      "text/plain": [
       "0      1494\n",
       "1       453\n",
       "10       88\n",
       "101       1\n",
       "106       1\n",
       "       ... \n",
       "9        96\n",
       "93        1\n",
       "94        1\n",
       "95        2\n",
       "96        1\n",
       "Name: eval_cnt, Length: 107, dtype: int64"
      ]
     },
     "execution_count": 30,
     "metadata": {},
     "output_type": "execute_result"
    }
   ],
   "source": [
    "df.eval_cnt.value_counts().sort_index()"
   ]
  },
  {
   "cell_type": "code",
   "execution_count": 31,
   "metadata": {
    "ExecuteTime": {
     "end_time": "2020-07-01T00:24:52.024593Z",
     "start_time": "2020-07-01T00:24:52.011630Z"
    }
   },
   "outputs": [
    {
     "data": {
      "text/plain": [
       "        13\n",
       "-1       1\n",
       "0     1379\n",
       "1      370\n",
       "10      67\n",
       "      ... \n",
       "95       1\n",
       "96       2\n",
       "97       2\n",
       "98       2\n",
       "99       4\n",
       "Name: review_cnt, Length: 214, dtype: int64"
      ]
     },
     "execution_count": 31,
     "metadata": {},
     "output_type": "execute_result"
    }
   ],
   "source": [
    "df.review_cnt.value_counts().sort_index()"
   ]
  },
  {
   "cell_type": "markdown",
   "metadata": {},
   "source": [
    "* review_cnt에서 ''와 -1에 대해 0으로 바꿔주자."
   ]
  },
  {
   "cell_type": "code",
   "execution_count": 32,
   "metadata": {
    "ExecuteTime": {
     "end_time": "2020-07-01T00:24:52.617008Z",
     "start_time": "2020-07-01T00:24:52.596065Z"
    }
   },
   "outputs": [],
   "source": [
    "df.loc[df[df.review_cnt == '-1'].index, 'review_cnt'] = 0\n",
    "df.loc[df[df.review_cnt == ''].index, 'review_cnt'] = 0"
   ]
  },
  {
   "cell_type": "markdown",
   "metadata": {},
   "source": [
    "#### 2.3.4 컬럼 데이터 형식 변경\n",
    "* object to int32"
   ]
  },
  {
   "cell_type": "code",
   "execution_count": 33,
   "metadata": {
    "ExecuteTime": {
     "end_time": "2020-07-01T00:24:54.093099Z",
     "start_time": "2020-07-01T00:24:54.080101Z"
    }
   },
   "outputs": [
    {
     "name": "stdout",
     "output_type": "stream",
     "text": [
      "<class 'pandas.core.frame.DataFrame'>\n",
      "RangeIndex: 3975 entries, 0 to 3974\n",
      "Data columns (total 6 columns):\n",
      "name          3975 non-null object\n",
      "category      3975 non-null object\n",
      "address       3975 non-null object\n",
      "score         3975 non-null float64\n",
      "eval_cnt      3975 non-null object\n",
      "review_cnt    3975 non-null object\n",
      "dtypes: float64(1), object(5)\n",
      "memory usage: 186.5+ KB\n"
     ]
    }
   ],
   "source": [
    "df.info()"
   ]
  },
  {
   "cell_type": "code",
   "execution_count": 34,
   "metadata": {
    "ExecuteTime": {
     "end_time": "2020-07-01T00:24:54.402238Z",
     "start_time": "2020-07-01T00:24:54.397253Z"
    }
   },
   "outputs": [],
   "source": [
    "# # 중간에 오류가 나서 확인해보니 na 값(object)이 있어 수정\n",
    "# for row in df[df.eval_cnt == 'na'].index:\n",
    "#     df.loc[row, 'eval_cnt'] = 0"
   ]
  },
  {
   "cell_type": "code",
   "execution_count": 35,
   "metadata": {
    "ExecuteTime": {
     "end_time": "2020-07-01T00:24:55.755624Z",
     "start_time": "2020-07-01T00:24:55.746649Z"
    }
   },
   "outputs": [],
   "source": [
    "# df\n",
    "df['eval_cnt'] = df['eval_cnt'].astype(int)\n",
    "df['review_cnt'] = df['review_cnt'].astype(int)"
   ]
  },
  {
   "cell_type": "code",
   "execution_count": 36,
   "metadata": {
    "ExecuteTime": {
     "end_time": "2020-07-01T00:24:56.005952Z",
     "start_time": "2020-07-01T00:24:55.992987Z"
    }
   },
   "outputs": [
    {
     "name": "stdout",
     "output_type": "stream",
     "text": [
      "<class 'pandas.core.frame.DataFrame'>\n",
      "RangeIndex: 3975 entries, 0 to 3974\n",
      "Data columns (total 6 columns):\n",
      "name          3975 non-null object\n",
      "category      3975 non-null object\n",
      "address       3975 non-null object\n",
      "score         3975 non-null float64\n",
      "eval_cnt      3975 non-null int32\n",
      "review_cnt    3975 non-null int32\n",
      "dtypes: float64(1), int32(2), object(3)\n",
      "memory usage: 155.4+ KB\n"
     ]
    }
   ],
   "source": [
    "df.info()"
   ]
  },
  {
   "cell_type": "markdown",
   "metadata": {},
   "source": [
    "### 2.4 지리 정보 추가하기\n",
    "* address를 기반으로 지리 정보를 추가해주자."
   ]
  },
  {
   "cell_type": "code",
   "execution_count": 327,
   "metadata": {
    "ExecuteTime": {
     "end_time": "2020-06-30T08:02:02.388118Z",
     "start_time": "2020-06-30T08:02:02.339251Z"
    }
   },
   "outputs": [],
   "source": [
    "import googlemaps\n",
    "gmap_key = '****'\n",
    "gmaps = googlemaps.Client(key=gmap_key)"
   ]
  },
  {
   "cell_type": "code",
   "execution_count": 329,
   "metadata": {
    "ExecuteTime": {
     "end_time": "2020-06-30T08:17:37.560703Z",
     "start_time": "2020-06-30T08:03:49.394013Z"
    }
   },
   "outputs": [
    {
     "data": {
      "application/vnd.jupyter.widget-view+json": {
       "model_id": "94cbbdeb760c4c21abd3b083689dff22",
       "version_major": 2,
       "version_minor": 0
      },
      "text/plain": [
       "HBox(children=(IntProgress(value=0, max=3975), HTML(value='')))"
      ]
     },
     "metadata": {},
     "output_type": "display_data"
    },
    {
     "name": "stdout",
     "output_type": "stream",
     "text": [
      "\n"
     ]
    },
    {
     "data": {
      "text/html": [
       "<div>\n",
       "<style scoped>\n",
       "    .dataframe tbody tr th:only-of-type {\n",
       "        vertical-align: middle;\n",
       "    }\n",
       "\n",
       "    .dataframe tbody tr th {\n",
       "        vertical-align: top;\n",
       "    }\n",
       "\n",
       "    .dataframe thead th {\n",
       "        text-align: right;\n",
       "    }\n",
       "</style>\n",
       "<table border=\"1\" class=\"dataframe\">\n",
       "  <thead>\n",
       "    <tr style=\"text-align: right;\">\n",
       "      <th></th>\n",
       "      <th>name</th>\n",
       "      <th>category</th>\n",
       "      <th>address</th>\n",
       "      <th>score</th>\n",
       "      <th>eval_cnt</th>\n",
       "      <th>review_cnt</th>\n",
       "      <th>lat</th>\n",
       "      <th>lng</th>\n",
       "    </tr>\n",
       "  </thead>\n",
       "  <tbody>\n",
       "    <tr>\n",
       "      <td>0</td>\n",
       "      <td>루엘드파리</td>\n",
       "      <td>제과,베이커리</td>\n",
       "      <td>서초동 1445-13</td>\n",
       "      <td>3.9</td>\n",
       "      <td>72</td>\n",
       "      <td>267</td>\n",
       "      <td>37.484014</td>\n",
       "      <td>127.017342</td>\n",
       "    </tr>\n",
       "    <tr>\n",
       "      <td>1</td>\n",
       "      <td>봉산옥 서초동본점</td>\n",
       "      <td>국수</td>\n",
       "      <td>서초3동 1451-9</td>\n",
       "      <td>3.7</td>\n",
       "      <td>79</td>\n",
       "      <td>146</td>\n",
       "      <td>37.483306</td>\n",
       "      <td>127.012451</td>\n",
       "    </tr>\n",
       "    <tr>\n",
       "      <td>2</td>\n",
       "      <td>장꼬방</td>\n",
       "      <td>찌개,전골</td>\n",
       "      <td>서초동 1438-8</td>\n",
       "      <td>3.2</td>\n",
       "      <td>299</td>\n",
       "      <td>124</td>\n",
       "      <td>37.486853</td>\n",
       "      <td>127.023648</td>\n",
       "    </tr>\n",
       "    <tr>\n",
       "      <td>3</td>\n",
       "      <td>해담채 남부터미널점</td>\n",
       "      <td>해물,생선</td>\n",
       "      <td>서초동 1600-9</td>\n",
       "      <td>3.1</td>\n",
       "      <td>10</td>\n",
       "      <td>47</td>\n",
       "      <td>37.485837</td>\n",
       "      <td>127.015086</td>\n",
       "    </tr>\n",
       "    <tr>\n",
       "      <td>4</td>\n",
       "      <td>카페로비</td>\n",
       "      <td>디저트카페</td>\n",
       "      <td>서초동 1564-4</td>\n",
       "      <td>3.9</td>\n",
       "      <td>15</td>\n",
       "      <td>126</td>\n",
       "      <td>37.488520</td>\n",
       "      <td>127.012744</td>\n",
       "    </tr>\n",
       "  </tbody>\n",
       "</table>\n",
       "</div>"
      ],
      "text/plain": [
       "         name category      address  score  eval_cnt  review_cnt        lat  \\\n",
       "0       루엘드파리  제과,베이커리  서초동 1445-13    3.9        72         267  37.484014   \n",
       "1   봉산옥 서초동본점       국수  서초3동 1451-9    3.7        79         146  37.483306   \n",
       "2         장꼬방    찌개,전골   서초동 1438-8    3.2       299         124  37.486853   \n",
       "3  해담채 남부터미널점    해물,생선   서초동 1600-9    3.1        10          47  37.485837   \n",
       "4        카페로비    디저트카페   서초동 1564-4    3.9        15         126  37.488520   \n",
       "\n",
       "          lng  \n",
       "0  127.017342  \n",
       "1  127.012451  \n",
       "2  127.023648  \n",
       "3  127.015086  \n",
       "4  127.012744  "
      ]
     },
     "execution_count": 329,
     "metadata": {},
     "output_type": "execute_result"
    }
   ],
   "source": [
    "# 구글맵API를 활용하여 각 카페의 주소에 해당하는 지리 정보를 얻어오기\n",
    "for row in tqdm_notebook(df.index):\n",
    "    try:\n",
    "        geo = gmaps.geocode(str(df.loc[row, 'address']))\n",
    "        df.loc[row, 'lat'] = geo[0].get('geometry')['location']['lat']\n",
    "        df.loc[row, 'lng'] = geo[0].get('geometry')['location']['lng']\n",
    "    except:\n",
    "        df.loc[row, 'lat'] = np.nan\n",
    "        df.loc[row, 'lng'] = np.nan\n",
    "df.head()"
   ]
  },
  {
   "cell_type": "code",
   "execution_count": 331,
   "metadata": {
    "ExecuteTime": {
     "end_time": "2020-06-30T08:19:12.126857Z",
     "start_time": "2020-06-30T08:19:12.118879Z"
    }
   },
   "outputs": [
    {
     "data": {
      "text/plain": [
       "0"
      ]
     },
     "execution_count": 331,
     "metadata": {},
     "output_type": "execute_result"
    }
   ],
   "source": [
    "df.lat.isnull().sum()"
   ]
  },
  {
   "cell_type": "code",
   "execution_count": 334,
   "metadata": {
    "ExecuteTime": {
     "end_time": "2020-06-30T08:19:27.449887Z",
     "start_time": "2020-06-30T08:19:27.441912Z"
    }
   },
   "outputs": [
    {
     "data": {
      "text/plain": [
       "0"
      ]
     },
     "execution_count": 334,
     "metadata": {},
     "output_type": "execute_result"
    }
   ],
   "source": [
    "df.lng.isnull().sum()"
   ]
  },
  {
   "cell_type": "markdown",
   "metadata": {},
   "source": [
    "### 2.5 diatance 컬럼 추가\n",
    "* 이제 학원과 음식점의 거리를 m단위로 추가해주자."
   ]
  },
  {
   "cell_type": "code",
   "execution_count": 40,
   "metadata": {
    "ExecuteTime": {
     "end_time": "2020-07-01T00:25:56.381608Z",
     "start_time": "2020-07-01T00:25:53.143263Z"
    }
   },
   "outputs": [
    {
     "data": {
      "text/html": [
       "<div>\n",
       "<style scoped>\n",
       "    .dataframe tbody tr th:only-of-type {\n",
       "        vertical-align: middle;\n",
       "    }\n",
       "\n",
       "    .dataframe tbody tr th {\n",
       "        vertical-align: top;\n",
       "    }\n",
       "\n",
       "    .dataframe thead th {\n",
       "        text-align: right;\n",
       "    }\n",
       "</style>\n",
       "<table border=\"1\" class=\"dataframe\">\n",
       "  <thead>\n",
       "    <tr style=\"text-align: right;\">\n",
       "      <th></th>\n",
       "      <th>name</th>\n",
       "      <th>category</th>\n",
       "      <th>address</th>\n",
       "      <th>score</th>\n",
       "      <th>eval_cnt</th>\n",
       "      <th>review_cnt</th>\n",
       "      <th>lat</th>\n",
       "      <th>lng</th>\n",
       "      <th>distance</th>\n",
       "    </tr>\n",
       "  </thead>\n",
       "  <tbody>\n",
       "    <tr>\n",
       "      <td>0</td>\n",
       "      <td>루엘드파리</td>\n",
       "      <td>제과,베이커리</td>\n",
       "      <td>서초동 1445-13</td>\n",
       "      <td>3.9</td>\n",
       "      <td>72</td>\n",
       "      <td>267</td>\n",
       "      <td>37.484014</td>\n",
       "      <td>127.017342</td>\n",
       "      <td>402.732947</td>\n",
       "    </tr>\n",
       "    <tr>\n",
       "      <td>1</td>\n",
       "      <td>봉산옥 서초동본점</td>\n",
       "      <td>국수</td>\n",
       "      <td>서초3동 1451-9</td>\n",
       "      <td>3.7</td>\n",
       "      <td>79</td>\n",
       "      <td>146</td>\n",
       "      <td>37.483306</td>\n",
       "      <td>127.012451</td>\n",
       "      <td>806.797011</td>\n",
       "    </tr>\n",
       "    <tr>\n",
       "      <td>2</td>\n",
       "      <td>장꼬방</td>\n",
       "      <td>찌개,전골</td>\n",
       "      <td>서초동 1438-8</td>\n",
       "      <td>3.2</td>\n",
       "      <td>299</td>\n",
       "      <td>124</td>\n",
       "      <td>37.486853</td>\n",
       "      <td>127.023648</td>\n",
       "      <td>266.307713</td>\n",
       "    </tr>\n",
       "  </tbody>\n",
       "</table>\n",
       "</div>"
      ],
      "text/plain": [
       "        name category      address  score  eval_cnt  review_cnt        lat  \\\n",
       "0      루엘드파리  제과,베이커리  서초동 1445-13    3.9        72         267  37.484014   \n",
       "1  봉산옥 서초동본점       국수  서초3동 1451-9    3.7        79         146  37.483306   \n",
       "2        장꼬방    찌개,전골   서초동 1438-8    3.2       299         124  37.486853   \n",
       "\n",
       "          lng    distance  \n",
       "0  127.017342  402.732947  \n",
       "1  127.012451  806.797011  \n",
       "2  127.023648  266.307713  "
      ]
     },
     "execution_count": 40,
     "metadata": {},
     "output_type": "execute_result"
    }
   ],
   "source": [
    "from haversine import haversine\n",
    "aca_geo = (37.486498, 127.020663)\n",
    "\n",
    "for index in df.index:\n",
    "    df.loc[index, 'distance'] = haversine(aca_geo, (df.loc[index, 'lat'], df.loc[index, 'lng']), unit = 'm')\n",
    "df.head(3)"
   ]
  },
  {
   "cell_type": "markdown",
   "metadata": {
    "ExecuteTime": {
     "end_time": "2020-06-23T10:05:23.004842Z",
     "start_time": "2020-06-23T10:05:22.989885Z"
    }
   },
   "source": [
    "### 2.5 저장하기\n",
    "* 전처리가 완료되었으니, 이제 저장을 하자!"
   ]
  },
  {
   "cell_type": "code",
   "execution_count": 335,
   "metadata": {
    "ExecuteTime": {
     "end_time": "2020-06-30T08:19:35.162268Z",
     "start_time": "2020-06-30T08:19:35.146309Z"
    }
   },
   "outputs": [
    {
     "data": {
      "text/html": [
       "<div>\n",
       "<style scoped>\n",
       "    .dataframe tbody tr th:only-of-type {\n",
       "        vertical-align: middle;\n",
       "    }\n",
       "\n",
       "    .dataframe tbody tr th {\n",
       "        vertical-align: top;\n",
       "    }\n",
       "\n",
       "    .dataframe thead th {\n",
       "        text-align: right;\n",
       "    }\n",
       "</style>\n",
       "<table border=\"1\" class=\"dataframe\">\n",
       "  <thead>\n",
       "    <tr style=\"text-align: right;\">\n",
       "      <th></th>\n",
       "      <th>name</th>\n",
       "      <th>category</th>\n",
       "      <th>address</th>\n",
       "      <th>score</th>\n",
       "      <th>eval_cnt</th>\n",
       "      <th>review_cnt</th>\n",
       "      <th>lat</th>\n",
       "      <th>lng</th>\n",
       "    </tr>\n",
       "  </thead>\n",
       "  <tbody>\n",
       "    <tr>\n",
       "      <td>0</td>\n",
       "      <td>루엘드파리</td>\n",
       "      <td>제과,베이커리</td>\n",
       "      <td>서초동 1445-13</td>\n",
       "      <td>3.9</td>\n",
       "      <td>72</td>\n",
       "      <td>267</td>\n",
       "      <td>37.484014</td>\n",
       "      <td>127.017342</td>\n",
       "    </tr>\n",
       "    <tr>\n",
       "      <td>1</td>\n",
       "      <td>봉산옥 서초동본점</td>\n",
       "      <td>국수</td>\n",
       "      <td>서초3동 1451-9</td>\n",
       "      <td>3.7</td>\n",
       "      <td>79</td>\n",
       "      <td>146</td>\n",
       "      <td>37.483306</td>\n",
       "      <td>127.012451</td>\n",
       "    </tr>\n",
       "    <tr>\n",
       "      <td>2</td>\n",
       "      <td>장꼬방</td>\n",
       "      <td>찌개,전골</td>\n",
       "      <td>서초동 1438-8</td>\n",
       "      <td>3.2</td>\n",
       "      <td>299</td>\n",
       "      <td>124</td>\n",
       "      <td>37.486853</td>\n",
       "      <td>127.023648</td>\n",
       "    </tr>\n",
       "  </tbody>\n",
       "</table>\n",
       "</div>"
      ],
      "text/plain": [
       "        name category      address  score  eval_cnt  review_cnt        lat  \\\n",
       "0      루엘드파리  제과,베이커리  서초동 1445-13    3.9        72         267  37.484014   \n",
       "1  봉산옥 서초동본점       국수  서초3동 1451-9    3.7        79         146  37.483306   \n",
       "2        장꼬방    찌개,전골   서초동 1438-8    3.2       299         124  37.486853   \n",
       "\n",
       "          lng  \n",
       "0  127.017342  \n",
       "1  127.012451  \n",
       "2  127.023648  "
      ]
     },
     "execution_count": 335,
     "metadata": {},
     "output_type": "execute_result"
    }
   ],
   "source": [
    "df.head(3)"
   ]
  },
  {
   "cell_type": "code",
   "execution_count": 336,
   "metadata": {
    "ExecuteTime": {
     "end_time": "2020-06-30T08:19:35.829483Z",
     "start_time": "2020-06-30T08:19:35.813528Z"
    }
   },
   "outputs": [
    {
     "data": {
      "text/html": [
       "<div>\n",
       "<style scoped>\n",
       "    .dataframe tbody tr th:only-of-type {\n",
       "        vertical-align: middle;\n",
       "    }\n",
       "\n",
       "    .dataframe tbody tr th {\n",
       "        vertical-align: top;\n",
       "    }\n",
       "\n",
       "    .dataframe thead th {\n",
       "        text-align: right;\n",
       "    }\n",
       "</style>\n",
       "<table border=\"1\" class=\"dataframe\">\n",
       "  <thead>\n",
       "    <tr style=\"text-align: right;\">\n",
       "      <th></th>\n",
       "      <th>name</th>\n",
       "      <th>category</th>\n",
       "      <th>address</th>\n",
       "      <th>score</th>\n",
       "      <th>eval_cnt</th>\n",
       "      <th>review_cnt</th>\n",
       "      <th>lat</th>\n",
       "      <th>lng</th>\n",
       "    </tr>\n",
       "  </thead>\n",
       "  <tbody>\n",
       "    <tr>\n",
       "      <td>3972</td>\n",
       "      <td>진품활어 양재본점</td>\n",
       "      <td>회</td>\n",
       "      <td>양재동 14-2</td>\n",
       "      <td>0.0</td>\n",
       "      <td>0</td>\n",
       "      <td>0</td>\n",
       "      <td>37.482828</td>\n",
       "      <td>127.036653</td>\n",
       "    </tr>\n",
       "    <tr>\n",
       "      <td>3973</td>\n",
       "      <td>노리</td>\n",
       "      <td>카페</td>\n",
       "      <td>도곡동 959-11</td>\n",
       "      <td>5.0</td>\n",
       "      <td>1</td>\n",
       "      <td>1</td>\n",
       "      <td>37.486323</td>\n",
       "      <td>127.036308</td>\n",
       "    </tr>\n",
       "    <tr>\n",
       "      <td>3974</td>\n",
       "      <td>양재고등학교 식당</td>\n",
       "      <td>구내식당</td>\n",
       "      <td>서초동 1376-4</td>\n",
       "      <td>0.0</td>\n",
       "      <td>0</td>\n",
       "      <td>0</td>\n",
       "      <td>37.482775</td>\n",
       "      <td>127.032492</td>\n",
       "    </tr>\n",
       "  </tbody>\n",
       "</table>\n",
       "</div>"
      ],
      "text/plain": [
       "           name category     address  score  eval_cnt  review_cnt        lat  \\\n",
       "3972  진품활어 양재본점        회    양재동 14-2    0.0         0           0  37.482828   \n",
       "3973         노리       카페  도곡동 959-11    5.0         1           1  37.486323   \n",
       "3974  양재고등학교 식당     구내식당  서초동 1376-4    0.0         0           0  37.482775   \n",
       "\n",
       "             lng  \n",
       "3972  127.036653  \n",
       "3973  127.036308  \n",
       "3974  127.032492  "
      ]
     },
     "execution_count": 336,
     "metadata": {},
     "output_type": "execute_result"
    }
   ],
   "source": [
    "df.tail(3)"
   ]
  },
  {
   "cell_type": "code",
   "execution_count": 337,
   "metadata": {
    "ExecuteTime": {
     "end_time": "2020-06-30T08:19:41.181172Z",
     "start_time": "2020-06-30T08:19:41.122330Z"
    }
   },
   "outputs": [],
   "source": [
    "df.to_csv('./source/Restaurant_analysis_miniproject/restaurant_preprocessed_200630(sean).csv', index=False)"
   ]
  },
  {
   "cell_type": "markdown",
   "metadata": {},
   "source": [
    "## 3. 데이터 살펴보기"
   ]
  },
  {
   "cell_type": "code",
   "execution_count": 37,
   "metadata": {
    "ExecuteTime": {
     "end_time": "2020-07-01T00:25:31.506083Z",
     "start_time": "2020-07-01T00:25:31.451232Z"
    }
   },
   "outputs": [
    {
     "data": {
      "text/html": [
       "<div>\n",
       "<style scoped>\n",
       "    .dataframe tbody tr th:only-of-type {\n",
       "        vertical-align: middle;\n",
       "    }\n",
       "\n",
       "    .dataframe tbody tr th {\n",
       "        vertical-align: top;\n",
       "    }\n",
       "\n",
       "    .dataframe thead th {\n",
       "        text-align: right;\n",
       "    }\n",
       "</style>\n",
       "<table border=\"1\" class=\"dataframe\">\n",
       "  <thead>\n",
       "    <tr style=\"text-align: right;\">\n",
       "      <th></th>\n",
       "      <th>name</th>\n",
       "      <th>category</th>\n",
       "      <th>address</th>\n",
       "      <th>score</th>\n",
       "      <th>eval_cnt</th>\n",
       "      <th>review_cnt</th>\n",
       "      <th>lat</th>\n",
       "      <th>lng</th>\n",
       "    </tr>\n",
       "  </thead>\n",
       "  <tbody>\n",
       "    <tr>\n",
       "      <td>0</td>\n",
       "      <td>루엘드파리</td>\n",
       "      <td>제과,베이커리</td>\n",
       "      <td>서초동 1445-13</td>\n",
       "      <td>3.9</td>\n",
       "      <td>72</td>\n",
       "      <td>267</td>\n",
       "      <td>37.484014</td>\n",
       "      <td>127.017342</td>\n",
       "    </tr>\n",
       "    <tr>\n",
       "      <td>1</td>\n",
       "      <td>봉산옥 서초동본점</td>\n",
       "      <td>국수</td>\n",
       "      <td>서초3동 1451-9</td>\n",
       "      <td>3.7</td>\n",
       "      <td>79</td>\n",
       "      <td>146</td>\n",
       "      <td>37.483306</td>\n",
       "      <td>127.012451</td>\n",
       "    </tr>\n",
       "    <tr>\n",
       "      <td>2</td>\n",
       "      <td>장꼬방</td>\n",
       "      <td>찌개,전골</td>\n",
       "      <td>서초동 1438-8</td>\n",
       "      <td>3.2</td>\n",
       "      <td>299</td>\n",
       "      <td>124</td>\n",
       "      <td>37.486853</td>\n",
       "      <td>127.023648</td>\n",
       "    </tr>\n",
       "    <tr>\n",
       "      <td>3</td>\n",
       "      <td>해담채 남부터미널점</td>\n",
       "      <td>해물,생선</td>\n",
       "      <td>서초동 1600-9</td>\n",
       "      <td>3.1</td>\n",
       "      <td>10</td>\n",
       "      <td>47</td>\n",
       "      <td>37.485837</td>\n",
       "      <td>127.015086</td>\n",
       "    </tr>\n",
       "    <tr>\n",
       "      <td>4</td>\n",
       "      <td>카페로비</td>\n",
       "      <td>디저트카페</td>\n",
       "      <td>서초동 1564-4</td>\n",
       "      <td>3.9</td>\n",
       "      <td>15</td>\n",
       "      <td>126</td>\n",
       "      <td>37.488520</td>\n",
       "      <td>127.012744</td>\n",
       "    </tr>\n",
       "  </tbody>\n",
       "</table>\n",
       "</div>"
      ],
      "text/plain": [
       "         name category      address  score  eval_cnt  review_cnt        lat  \\\n",
       "0       루엘드파리  제과,베이커리  서초동 1445-13    3.9        72         267  37.484014   \n",
       "1   봉산옥 서초동본점       국수  서초3동 1451-9    3.7        79         146  37.483306   \n",
       "2         장꼬방    찌개,전골   서초동 1438-8    3.2       299         124  37.486853   \n",
       "3  해담채 남부터미널점    해물,생선   서초동 1600-9    3.1        10          47  37.485837   \n",
       "4        카페로비    디저트카페   서초동 1564-4    3.9        15         126  37.488520   \n",
       "\n",
       "          lng  \n",
       "0  127.017342  \n",
       "1  127.012451  \n",
       "2  127.023648  \n",
       "3  127.015086  \n",
       "4  127.012744  "
      ]
     },
     "execution_count": 37,
     "metadata": {},
     "output_type": "execute_result"
    }
   ],
   "source": [
    "df = pd.read_csv('./source/Restaurant_analysis_miniproject/restaurant_preprocessed_distance)200701(sean).csv',\n",
    "                index=False)\n",
    "df.head()"
   ]
  },
  {
   "cell_type": "code",
   "execution_count": 38,
   "metadata": {
    "ExecuteTime": {
     "end_time": "2020-07-01T00:25:36.911637Z",
     "start_time": "2020-07-01T00:25:36.897679Z"
    }
   },
   "outputs": [
    {
     "name": "stdout",
     "output_type": "stream",
     "text": [
      "<class 'pandas.core.frame.DataFrame'>\n",
      "RangeIndex: 3975 entries, 0 to 3974\n",
      "Data columns (total 8 columns):\n",
      "name          3975 non-null object\n",
      "category      3975 non-null object\n",
      "address       3975 non-null object\n",
      "score         3975 non-null float64\n",
      "eval_cnt      3975 non-null int64\n",
      "review_cnt    3975 non-null int64\n",
      "lat           3975 non-null float64\n",
      "lng           3975 non-null float64\n",
      "dtypes: float64(3), int64(2), object(3)\n",
      "memory usage: 248.6+ KB\n"
     ]
    }
   ],
   "source": [
    "df.info()"
   ]
  },
  {
   "cell_type": "markdown",
   "metadata": {},
   "source": [
    "### 3.1 데이터 분포\n",
    "* 데이터들의 분포를 살펴보자."
   ]
  },
  {
   "cell_type": "code",
   "execution_count": 60,
   "metadata": {
    "ExecuteTime": {
     "end_time": "2020-07-01T00:56:24.405531Z",
     "start_time": "2020-07-01T00:56:24.357661Z"
    }
   },
   "outputs": [
    {
     "data": {
      "text/html": [
       "<div>\n",
       "<style scoped>\n",
       "    .dataframe tbody tr th:only-of-type {\n",
       "        vertical-align: middle;\n",
       "    }\n",
       "\n",
       "    .dataframe tbody tr th {\n",
       "        vertical-align: top;\n",
       "    }\n",
       "\n",
       "    .dataframe thead th {\n",
       "        text-align: right;\n",
       "    }\n",
       "</style>\n",
       "<table border=\"1\" class=\"dataframe\">\n",
       "  <thead>\n",
       "    <tr style=\"text-align: right;\">\n",
       "      <th></th>\n",
       "      <th>score</th>\n",
       "      <th>eval_cnt</th>\n",
       "      <th>review_cnt</th>\n",
       "      <th>lat</th>\n",
       "      <th>lng</th>\n",
       "      <th>distance</th>\n",
       "    </tr>\n",
       "  </thead>\n",
       "  <tbody>\n",
       "    <tr>\n",
       "      <td>count</td>\n",
       "      <td>3975.000000</td>\n",
       "      <td>3975.000000</td>\n",
       "      <td>3975.000000</td>\n",
       "      <td>3975.000000</td>\n",
       "      <td>3975.000000</td>\n",
       "      <td>3975.000000</td>\n",
       "    </tr>\n",
       "    <tr>\n",
       "      <td>mean</td>\n",
       "      <td>2.160881</td>\n",
       "      <td>6.656604</td>\n",
       "      <td>17.760252</td>\n",
       "      <td>37.491203</td>\n",
       "      <td>127.023722</td>\n",
       "      <td>1071.946037</td>\n",
       "    </tr>\n",
       "    <tr>\n",
       "      <td>std</td>\n",
       "      <td>1.887486</td>\n",
       "      <td>21.426941</td>\n",
       "      <td>47.463085</td>\n",
       "      <td>0.005022</td>\n",
       "      <td>0.008939</td>\n",
       "      <td>362.051954</td>\n",
       "    </tr>\n",
       "    <tr>\n",
       "      <td>min</td>\n",
       "      <td>0.000000</td>\n",
       "      <td>0.000000</td>\n",
       "      <td>0.000000</td>\n",
       "      <td>37.473198</td>\n",
       "      <td>127.005790</td>\n",
       "      <td>24.990818</td>\n",
       "    </tr>\n",
       "    <tr>\n",
       "      <td>25%</td>\n",
       "      <td>0.000000</td>\n",
       "      <td>0.000000</td>\n",
       "      <td>0.000000</td>\n",
       "      <td>37.486350</td>\n",
       "      <td>127.014473</td>\n",
       "      <td>872.806816</td>\n",
       "    </tr>\n",
       "    <tr>\n",
       "      <td>50%</td>\n",
       "      <td>2.600000</td>\n",
       "      <td>2.000000</td>\n",
       "      <td>2.000000</td>\n",
       "      <td>37.491802</td>\n",
       "      <td>127.027201</td>\n",
       "      <td>1088.512566</td>\n",
       "    </tr>\n",
       "    <tr>\n",
       "      <td>75%</td>\n",
       "      <td>3.800000</td>\n",
       "      <td>6.000000</td>\n",
       "      <td>13.000000</td>\n",
       "      <td>37.495074</td>\n",
       "      <td>127.030910</td>\n",
       "      <td>1344.099006</td>\n",
       "    </tr>\n",
       "    <tr>\n",
       "      <td>max</td>\n",
       "      <td>5.000000</td>\n",
       "      <td>603.000000</td>\n",
       "      <td>770.000000</td>\n",
       "      <td>37.502255</td>\n",
       "      <td>127.061053</td>\n",
       "      <td>3845.154753</td>\n",
       "    </tr>\n",
       "  </tbody>\n",
       "</table>\n",
       "</div>"
      ],
      "text/plain": [
       "             score     eval_cnt   review_cnt          lat          lng  \\\n",
       "count  3975.000000  3975.000000  3975.000000  3975.000000  3975.000000   \n",
       "mean      2.160881     6.656604    17.760252    37.491203   127.023722   \n",
       "std       1.887486    21.426941    47.463085     0.005022     0.008939   \n",
       "min       0.000000     0.000000     0.000000    37.473198   127.005790   \n",
       "25%       0.000000     0.000000     0.000000    37.486350   127.014473   \n",
       "50%       2.600000     2.000000     2.000000    37.491802   127.027201   \n",
       "75%       3.800000     6.000000    13.000000    37.495074   127.030910   \n",
       "max       5.000000   603.000000   770.000000    37.502255   127.061053   \n",
       "\n",
       "          distance  \n",
       "count  3975.000000  \n",
       "mean   1071.946037  \n",
       "std     362.051954  \n",
       "min      24.990818  \n",
       "25%     872.806816  \n",
       "50%    1088.512566  \n",
       "75%    1344.099006  \n",
       "max    3845.154753  "
      ]
     },
     "execution_count": 60,
     "metadata": {},
     "output_type": "execute_result"
    }
   ],
   "source": [
    "df.describe()"
   ]
  },
  {
   "cell_type": "code",
   "execution_count": 63,
   "metadata": {
    "ExecuteTime": {
     "end_time": "2020-07-01T00:59:29.375216Z",
     "start_time": "2020-07-01T00:59:28.203349Z"
    }
   },
   "outputs": [
    {
     "data": {
      "text/plain": [
       "Text(0.5, 1.0, 'Histogram of review_cnt')"
      ]
     },
     "execution_count": 63,
     "metadata": {},
     "output_type": "execute_result"
    },
    {
     "data": {
      "image/png": "[encoded data removed]",
      "text/plain": [
       "<Figure size 1224x360 with 3 Axes>"
      ]
     },
     "metadata": {
      "needs_background": "light"
     },
     "output_type": "display_data"
    }
   ],
   "source": [
    "f, ax = plt.subplots(1, 3, figsize=(17, 5))\n",
    "sns.distplot(df.score, ax=ax[0])\n",
    "ax[0].set_title('Histogram of score')\n",
    "sns.distplot(df.eval_cnt, ax=ax[1])\n",
    "ax[1].set_title('Histogram of eval_cnt')\n",
    "sns.distplot(df.review_cnt, ax=ax[2])\n",
    "ax[2].set_title('Histogram of review_cnt')"
   ]
  },
  {
   "cell_type": "code",
   "execution_count": 72,
   "metadata": {
    "ExecuteTime": {
     "end_time": "2020-07-01T01:02:03.148285Z",
     "start_time": "2020-07-01T01:02:03.138312Z"
    }
   },
   "outputs": [
    {
     "data": {
      "text/plain": [
       "0.3758490566037736"
      ]
     },
     "execution_count": 72,
     "metadata": {},
     "output_type": "execute_result"
    }
   ],
   "source": [
    "sum(df.eval_cnt==0)/len(df)"
   ]
  },
  {
   "cell_type": "markdown",
   "metadata": {},
   "source": [
    "* 평가가 이뤄지지 않은 음식점 (review_cnt가 0)인 곳이 37%로 많아서, score의 분포가 0에 쏠려있다.\n",
    "* 허수를 줄이기 위해 필터링이 필요하다.\n",
    "* 일단은 평가 수가 1 이상인 곳들을 살펴보자."
   ]
  },
  {
   "cell_type": "code",
   "execution_count": 74,
   "metadata": {
    "ExecuteTime": {
     "end_time": "2020-07-01T01:24:57.342630Z",
     "start_time": "2020-07-01T01:24:57.292772Z"
    }
   },
   "outputs": [
    {
     "data": {
      "text/html": [
       "<div>\n",
       "<style scoped>\n",
       "    .dataframe tbody tr th:only-of-type {\n",
       "        vertical-align: middle;\n",
       "    }\n",
       "\n",
       "    .dataframe tbody tr th {\n",
       "        vertical-align: top;\n",
       "    }\n",
       "\n",
       "    .dataframe thead th {\n",
       "        text-align: right;\n",
       "    }\n",
       "</style>\n",
       "<table border=\"1\" class=\"dataframe\">\n",
       "  <thead>\n",
       "    <tr style=\"text-align: right;\">\n",
       "      <th></th>\n",
       "      <th>score</th>\n",
       "      <th>eval_cnt</th>\n",
       "      <th>review_cnt</th>\n",
       "      <th>lat</th>\n",
       "      <th>lng</th>\n",
       "      <th>distance</th>\n",
       "    </tr>\n",
       "  </thead>\n",
       "  <tbody>\n",
       "    <tr>\n",
       "      <td>count</td>\n",
       "      <td>2481.000000</td>\n",
       "      <td>2481.000000</td>\n",
       "      <td>2481.000000</td>\n",
       "      <td>2481.000000</td>\n",
       "      <td>2481.000000</td>\n",
       "      <td>2481.000000</td>\n",
       "    </tr>\n",
       "    <tr>\n",
       "      <td>mean</td>\n",
       "      <td>3.462112</td>\n",
       "      <td>10.665054</td>\n",
       "      <td>27.507457</td>\n",
       "      <td>37.491438</td>\n",
       "      <td>127.024046</td>\n",
       "      <td>1090.796045</td>\n",
       "    </tr>\n",
       "    <tr>\n",
       "      <td>std</td>\n",
       "      <td>1.096339</td>\n",
       "      <td>26.323474</td>\n",
       "      <td>57.762668</td>\n",
       "      <td>0.005143</td>\n",
       "      <td>0.008770</td>\n",
       "      <td>355.429193</td>\n",
       "    </tr>\n",
       "    <tr>\n",
       "      <td>min</td>\n",
       "      <td>0.000000</td>\n",
       "      <td>1.000000</td>\n",
       "      <td>0.000000</td>\n",
       "      <td>37.473198</td>\n",
       "      <td>127.007408</td>\n",
       "      <td>24.990818</td>\n",
       "    </tr>\n",
       "    <tr>\n",
       "      <td>25%</td>\n",
       "      <td>3.000000</td>\n",
       "      <td>2.000000</td>\n",
       "      <td>2.000000</td>\n",
       "      <td>37.486326</td>\n",
       "      <td>127.014692</td>\n",
       "      <td>885.291594</td>\n",
       "    </tr>\n",
       "    <tr>\n",
       "      <td>50%</td>\n",
       "      <td>3.500000</td>\n",
       "      <td>4.000000</td>\n",
       "      <td>8.000000</td>\n",
       "      <td>37.492180</td>\n",
       "      <td>127.027638</td>\n",
       "      <td>1108.244683</td>\n",
       "    </tr>\n",
       "    <tr>\n",
       "      <td>75%</td>\n",
       "      <td>4.300000</td>\n",
       "      <td>10.000000</td>\n",
       "      <td>26.000000</td>\n",
       "      <td>37.495332</td>\n",
       "      <td>127.030863</td>\n",
       "      <td>1363.847312</td>\n",
       "    </tr>\n",
       "    <tr>\n",
       "      <td>max</td>\n",
       "      <td>5.000000</td>\n",
       "      <td>603.000000</td>\n",
       "      <td>770.000000</td>\n",
       "      <td>37.502255</td>\n",
       "      <td>127.040220</td>\n",
       "      <td>2138.641337</td>\n",
       "    </tr>\n",
       "  </tbody>\n",
       "</table>\n",
       "</div>"
      ],
      "text/plain": [
       "             score     eval_cnt   review_cnt          lat          lng  \\\n",
       "count  2481.000000  2481.000000  2481.000000  2481.000000  2481.000000   \n",
       "mean      3.462112    10.665054    27.507457    37.491438   127.024046   \n",
       "std       1.096339    26.323474    57.762668     0.005143     0.008770   \n",
       "min       0.000000     1.000000     0.000000    37.473198   127.007408   \n",
       "25%       3.000000     2.000000     2.000000    37.486326   127.014692   \n",
       "50%       3.500000     4.000000     8.000000    37.492180   127.027638   \n",
       "75%       4.300000    10.000000    26.000000    37.495332   127.030863   \n",
       "max       5.000000   603.000000   770.000000    37.502255   127.040220   \n",
       "\n",
       "          distance  \n",
       "count  2481.000000  \n",
       "mean   1090.796045  \n",
       "std     355.429193  \n",
       "min      24.990818  \n",
       "25%     885.291594  \n",
       "50%    1108.244683  \n",
       "75%    1363.847312  \n",
       "max    2138.641337  "
      ]
     },
     "execution_count": 74,
     "metadata": {},
     "output_type": "execute_result"
    }
   ],
   "source": [
    "df_eval_non_zero = df[df.eval_cnt!=0]\n",
    "df_eval_non_zero.describe()"
   ]
  },
  {
   "cell_type": "markdown",
   "metadata": {},
   "source": [
    "* score의 중앙값이 3점대로 변화하였다."
   ]
  },
  {
   "cell_type": "code",
   "execution_count": 76,
   "metadata": {
    "ExecuteTime": {
     "end_time": "2020-07-01T01:25:33.295580Z",
     "start_time": "2020-07-01T01:25:33.288568Z"
    }
   },
   "outputs": [
    {
     "data": {
      "text/plain": [
       "2481"
      ]
     },
     "execution_count": 76,
     "metadata": {},
     "output_type": "execute_result"
    }
   ],
   "source": [
    "len(df_eval_non_zero)"
   ]
  },
  {
   "cell_type": "code",
   "execution_count": 77,
   "metadata": {
    "ExecuteTime": {
     "end_time": "2020-07-01T01:27:46.432765Z",
     "start_time": "2020-07-01T01:27:46.149525Z"
    }
   },
   "outputs": [
    {
     "data": {
      "text/plain": [
       "<matplotlib.axes._subplots.AxesSubplot at 0x23c3b9c77c8>"
      ]
     },
     "execution_count": 77,
     "metadata": {},
     "output_type": "execute_result"
    },
    {
     "data": {
      "image/png": "[encoded data removed]",
      "text/plain": [
       "<Figure size 432x288 with 1 Axes>"
      ]
     },
     "metadata": {
      "needs_background": "light"
     },
     "output_type": "display_data"
    }
   ],
   "source": [
    "sns.distplot(df.score)"
   ]
  },
  {
   "cell_type": "code",
   "execution_count": 75,
   "metadata": {
    "ExecuteTime": {
     "end_time": "2020-07-01T01:25:19.279040Z",
     "start_time": "2020-07-01T01:25:18.929943Z"
    }
   },
   "outputs": [
    {
     "data": {
      "text/plain": [
       "<matplotlib.axes._subplots.AxesSubplot at 0x23c3ba0cf48>"
      ]
     },
     "execution_count": 75,
     "metadata": {},
     "output_type": "execute_result"
    },
    {
     "data": {
      "image/png": "[encoded data removed]",
      "text/plain": [
       "<Figure size 432x288 with 1 Axes>"
      ]
     },
     "metadata": {
      "needs_background": "light"
     },
     "output_type": "display_data"
    }
   ],
   "source": [
    "sns.distplot(df_eval_non_zero.score)"
   ]
  },
  {
   "cell_type": "markdown",
   "metadata": {},
   "source": [
    "* 분포가 3점 이상의 평가를 받은 곳이 많음을 알 수 있다."
   ]
  },
  {
   "cell_type": "code",
   "execution_count": 78,
   "metadata": {
    "ExecuteTime": {
     "end_time": "2020-07-01T01:35:35.257840Z",
     "start_time": "2020-07-01T01:35:34.871872Z"
    }
   },
   "outputs": [
    {
     "data": {
      "text/plain": [
       "<matplotlib.axes._subplots.AxesSubplot at 0x23c3c15c4c8>"
      ]
     },
     "execution_count": 78,
     "metadata": {},
     "output_type": "execute_result"
    },
    {
     "data": {
      "image/png": "[encoded data removed]",
      "text/plain": [
       "<Figure size 432x288 with 1 Axes>"
      ]
     },
     "metadata": {
      "needs_background": "light"
     },
     "output_type": "display_data"
    }
   ],
   "source": [
    "sns.distplot(df_eval_non_zero.eval_cnt)"
   ]
  },
  {
   "cell_type": "code",
   "execution_count": 79,
   "metadata": {
    "ExecuteTime": {
     "end_time": "2020-07-01T01:35:44.381487Z",
     "start_time": "2020-07-01T01:35:44.004468Z"
    }
   },
   "outputs": [
    {
     "data": {
      "text/plain": [
       "<matplotlib.axes._subplots.AxesSubplot at 0x23c3c190588>"
      ]
     },
     "execution_count": 79,
     "metadata": {},
     "output_type": "execute_result"
    },
    {
     "data": {
      "image/png": "[encoded data removed]",
      "text/plain": [
       "<Figure size 432x288 with 1 Axes>"
      ]
     },
     "metadata": {
      "needs_background": "light"
     },
     "output_type": "display_data"
    }
   ],
   "source": [
    "sns.distplot(df_eval_non_zero.review_cnt)"
   ]
  },
  {
   "cell_type": "markdown",
   "metadata": {},
   "source": [
    "* 리뷰와 평가는 여전히 긴 꼬리 분포를 그리고 있다."
   ]
  },
  {
   "cell_type": "markdown",
   "metadata": {},
   "source": [
    "### 3.2 필터링\n",
    "* 좀 더 유의미한 분석을 위해 평가를 n번 받은 음식점으로 필터링하면 좋겠다.\n",
    "* 팀원들과 논의하여 중앙값인 n=4로 정했고, 이를 윤성님이 처리해주었다."
   ]
  },
  {
   "cell_type": "code",
   "execution_count": 92,
   "metadata": {
    "ExecuteTime": {
     "end_time": "2020-07-01T01:52:22.704668Z",
     "start_time": "2020-07-01T01:52:22.677741Z"
    }
   },
   "outputs": [
    {
     "data": {
      "text/plain": [
       "(1420, 9)"
      ]
     },
     "execution_count": 92,
     "metadata": {},
     "output_type": "execute_result"
    }
   ],
   "source": [
    "df = pd.read_csv(\n",
    "    'source/Restaurant_analysis_miniproject/restaurant_merged_200701.csv', index_col=0)\n",
    "df.drop('ZMS', axis=1, inplace=True)\n",
    "df.shape"
   ]
  },
  {
   "cell_type": "markdown",
   "metadata": {},
   "source": [
    "* 평가를 4번 이상 받은 음식점은 총 1420개다."
   ]
  },
  {
   "cell_type": "code",
   "execution_count": 93,
   "metadata": {
    "ExecuteTime": {
     "end_time": "2020-07-01T01:53:08.803483Z",
     "start_time": "2020-07-01T01:53:08.750621Z"
    }
   },
   "outputs": [
    {
     "data": {
      "text/html": [
       "<div>\n",
       "<style scoped>\n",
       "    .dataframe tbody tr th:only-of-type {\n",
       "        vertical-align: middle;\n",
       "    }\n",
       "\n",
       "    .dataframe tbody tr th {\n",
       "        vertical-align: top;\n",
       "    }\n",
       "\n",
       "    .dataframe thead th {\n",
       "        text-align: right;\n",
       "    }\n",
       "</style>\n",
       "<table border=\"1\" class=\"dataframe\">\n",
       "  <thead>\n",
       "    <tr style=\"text-align: right;\">\n",
       "      <th></th>\n",
       "      <th>score</th>\n",
       "      <th>eval_cnt</th>\n",
       "      <th>review_cnt</th>\n",
       "      <th>lat</th>\n",
       "      <th>lng</th>\n",
       "      <th>distance</th>\n",
       "    </tr>\n",
       "  </thead>\n",
       "  <tbody>\n",
       "    <tr>\n",
       "      <td>count</td>\n",
       "      <td>1420.000000</td>\n",
       "      <td>1420.000000</td>\n",
       "      <td>1420.000000</td>\n",
       "      <td>1420.000000</td>\n",
       "      <td>1420.000000</td>\n",
       "      <td>1420.000000</td>\n",
       "    </tr>\n",
       "    <tr>\n",
       "      <td>mean</td>\n",
       "      <td>3.400070</td>\n",
       "      <td>17.319014</td>\n",
       "      <td>41.761268</td>\n",
       "      <td>37.491774</td>\n",
       "      <td>127.024336</td>\n",
       "      <td>1109.236822</td>\n",
       "    </tr>\n",
       "    <tr>\n",
       "      <td>std</td>\n",
       "      <td>0.858145</td>\n",
       "      <td>33.279419</td>\n",
       "      <td>71.348256</td>\n",
       "      <td>0.005241</td>\n",
       "      <td>0.008532</td>\n",
       "      <td>350.447385</td>\n",
       "    </tr>\n",
       "    <tr>\n",
       "      <td>min</td>\n",
       "      <td>1.000000</td>\n",
       "      <td>4.000000</td>\n",
       "      <td>0.000000</td>\n",
       "      <td>37.473198</td>\n",
       "      <td>127.007408</td>\n",
       "      <td>0.803824</td>\n",
       "    </tr>\n",
       "    <tr>\n",
       "      <td>25%</td>\n",
       "      <td>2.900000</td>\n",
       "      <td>6.000000</td>\n",
       "      <td>6.000000</td>\n",
       "      <td>37.486626</td>\n",
       "      <td>127.015055</td>\n",
       "      <td>898.489362</td>\n",
       "    </tr>\n",
       "    <tr>\n",
       "      <td>50%</td>\n",
       "      <td>3.400000</td>\n",
       "      <td>9.000000</td>\n",
       "      <td>16.000000</td>\n",
       "      <td>37.492690</td>\n",
       "      <td>127.027900</td>\n",
       "      <td>1124.397450</td>\n",
       "    </tr>\n",
       "    <tr>\n",
       "      <td>75%</td>\n",
       "      <td>4.000000</td>\n",
       "      <td>16.000000</td>\n",
       "      <td>46.250000</td>\n",
       "      <td>37.495572</td>\n",
       "      <td>127.030804</td>\n",
       "      <td>1377.152668</td>\n",
       "    </tr>\n",
       "    <tr>\n",
       "      <td>max</td>\n",
       "      <td>5.000000</td>\n",
       "      <td>603.000000</td>\n",
       "      <td>770.000000</td>\n",
       "      <td>37.500328</td>\n",
       "      <td>127.040181</td>\n",
       "      <td>2138.641337</td>\n",
       "    </tr>\n",
       "  </tbody>\n",
       "</table>\n",
       "</div>"
      ],
      "text/plain": [
       "             score     eval_cnt   review_cnt          lat          lng  \\\n",
       "count  1420.000000  1420.000000  1420.000000  1420.000000  1420.000000   \n",
       "mean      3.400070    17.319014    41.761268    37.491774   127.024336   \n",
       "std       0.858145    33.279419    71.348256     0.005241     0.008532   \n",
       "min       1.000000     4.000000     0.000000    37.473198   127.007408   \n",
       "25%       2.900000     6.000000     6.000000    37.486626   127.015055   \n",
       "50%       3.400000     9.000000    16.000000    37.492690   127.027900   \n",
       "75%       4.000000    16.000000    46.250000    37.495572   127.030804   \n",
       "max       5.000000   603.000000   770.000000    37.500328   127.040181   \n",
       "\n",
       "          distance  \n",
       "count  1420.000000  \n",
       "mean   1109.236822  \n",
       "std     350.447385  \n",
       "min       0.803824  \n",
       "25%     898.489362  \n",
       "50%    1124.397450  \n",
       "75%    1377.152668  \n",
       "max    2138.641337  "
      ]
     },
     "execution_count": 93,
     "metadata": {},
     "output_type": "execute_result"
    }
   ],
   "source": [
    "df.describe()"
   ]
  },
  {
   "cell_type": "code",
   "execution_count": 94,
   "metadata": {
    "ExecuteTime": {
     "end_time": "2020-07-01T01:53:24.032780Z",
     "start_time": "2020-07-01T01:53:22.520822Z"
    }
   },
   "outputs": [
    {
     "data": {
      "text/plain": [
       "Text(0.5, 1.0, 'Histogram of review_cnt')"
      ]
     },
     "execution_count": 94,
     "metadata": {},
     "output_type": "execute_result"
    },
    {
     "data": {
      "image/png": "[encoded data removed]",
      "text/plain": [
       "<Figure size 1224x360 with 3 Axes>"
      ]
     },
     "metadata": {
      "needs_background": "light"
     },
     "output_type": "display_data"
    }
   ],
   "source": [
    "f, ax = plt.subplots(1, 3, figsize=(17, 5))\n",
    "sns.distplot(df.score, ax=ax[0])\n",
    "ax[0].set_title('Histogram of score')\n",
    "sns.distplot(df.eval_cnt, ax=ax[1])\n",
    "ax[1].set_title('Histogram of eval_cnt')\n",
    "sns.distplot(df.review_cnt, ax=ax[2])\n",
    "ax[2].set_title('Histogram of review_cnt')"
   ]
  },
  {
   "cell_type": "code",
   "execution_count": 100,
   "metadata": {
    "ExecuteTime": {
     "end_time": "2020-07-01T01:56:29.059358Z",
     "start_time": "2020-07-01T01:56:28.753148Z"
    }
   },
   "outputs": [
    {
     "data": {
      "text/plain": [
       "<matplotlib.axes._subplots.AxesSubplot at 0x23c3cc4ea88>"
      ]
     },
     "execution_count": 100,
     "metadata": {},
     "output_type": "execute_result"
    },
    {
     "data": {
      "image/png": "[encoded data removed]",
      "text/plain": [
       "<Figure size 432x288 with 1 Axes>"
      ]
     },
     "metadata": {
      "needs_background": "light"
     },
     "output_type": "display_data"
    }
   ],
   "source": [
    "sns.distplot(np.log(df.eval_cnt))"
   ]
  },
  {
   "cell_type": "code",
   "execution_count": 98,
   "metadata": {
    "ExecuteTime": {
     "end_time": "2020-07-01T01:56:08.827429Z",
     "start_time": "2020-07-01T01:56:08.528194Z"
    }
   },
   "outputs": [
    {
     "data": {
      "text/plain": [
       "<matplotlib.axes._subplots.AxesSubplot at 0x23c3ca54cc8>"
      ]
     },
     "execution_count": 98,
     "metadata": {},
     "output_type": "execute_result"
    },
    {
     "data": {
      "image/png": "[encoded data removed]",
      "text/plain": [
       "<Figure size 432x288 with 1 Axes>"
      ]
     },
     "metadata": {
      "needs_background": "light"
     },
     "output_type": "display_data"
    }
   ],
   "source": [
    "sns.distplot(np.log(df.review_cnt+1))"
   ]
  },
  {
   "cell_type": "markdown",
   "metadata": {},
   "source": [
    "* 로그를 취해주면 review_cnt는 정규분포와 유사해지고,\n",
    "* eval_cnt도 왜도가 줄어듦을 확인할 수 있다."
   ]
  },
  {
   "cell_type": "markdown",
   "metadata": {},
   "source": [
    "## 4. 지표 설정\n",
    "* eval_cnt와 score, review_cnt를 잘 조합하여 하나의 지표로 만들면 평가에 용이하겠다.\n",
    "$$ZMS = score * log(eval\\_cnt) + min\\_max\\_scaler(log(review\\_cnt))$$\n",
    "* 위의 공식으로 ZMS를 구하였다.\n",
    "    * $score * log(eval\\_cnt)$\n",
    "        * 별점을 단순히 평가 수와 곱하면, 평점이 낮더라도 평가만 많이 받으면 좋은 점수를 받게된다.\n",
    "        * 또한, eval_cnt의 데이터 스케일이 크고, 분포 내 왜도도 커서 log를 취하여 곱했다.\n",
    "    * $min\\_max\\_scaler(log(review\\_cnt))$\n",
    "        * 리뷰 수는 가산점 개념으로 생각하자고 논의하였다.\n",
    "        * 평점이 비슷한 음식점이 두 곳 있으면, 리뷰가 많은 곳이 가산점을 받을 수 있도록 설계했다.\n",
    "        * 리뷰 수가 정규분포에 유사할 수 있도록 log값을 취해준 후 스케일링을 진행하였다.\n",
    "            * 스케일링: 리뷰수 자체가 순위에 많은 영향은 끼치지 않도록 하기 위해 0~1범위로 제한하였다.\n",
    "* ZMS를 구한 이후, 이를 0~100 범위에 오도록 스케일링하였다."
   ]
  },
  {
   "cell_type": "code",
   "execution_count": 245,
   "metadata": {
    "ExecuteTime": {
     "end_time": "2020-07-01T03:44:53.429255Z",
     "start_time": "2020-07-01T03:44:53.393353Z"
    }
   },
   "outputs": [
    {
     "data": {
      "text/html": [
       "<div>\n",
       "<style scoped>\n",
       "    .dataframe tbody tr th:only-of-type {\n",
       "        vertical-align: middle;\n",
       "    }\n",
       "\n",
       "    .dataframe tbody tr th {\n",
       "        vertical-align: top;\n",
       "    }\n",
       "\n",
       "    .dataframe thead th {\n",
       "        text-align: right;\n",
       "    }\n",
       "</style>\n",
       "<table border=\"1\" class=\"dataframe\">\n",
       "  <thead>\n",
       "    <tr style=\"text-align: right;\">\n",
       "      <th></th>\n",
       "      <th>name</th>\n",
       "      <th>category</th>\n",
       "      <th>address</th>\n",
       "      <th>score</th>\n",
       "      <th>eval_cnt</th>\n",
       "      <th>review_cnt</th>\n",
       "      <th>lat</th>\n",
       "      <th>lng</th>\n",
       "      <th>distance</th>\n",
       "      <th>ZMS</th>\n",
       "    </tr>\n",
       "  </thead>\n",
       "  <tbody>\n",
       "    <tr>\n",
       "      <td>497</td>\n",
       "      <td>크래프트아일랜드 강남역점</td>\n",
       "      <td>호프,요리주점</td>\n",
       "      <td>서초동 1317-32</td>\n",
       "      <td>4.8</td>\n",
       "      <td>173</td>\n",
       "      <td>292</td>\n",
       "      <td>37.498478</td>\n",
       "      <td>127.025597</td>\n",
       "      <td>1401.450583</td>\n",
       "      <td>100.00</td>\n",
       "    </tr>\n",
       "    <tr>\n",
       "      <td>1352</td>\n",
       "      <td>크래버 대게나라 서초점</td>\n",
       "      <td>게,대게</td>\n",
       "      <td>서초동 1582-16</td>\n",
       "      <td>4.8</td>\n",
       "      <td>166</td>\n",
       "      <td>101</td>\n",
       "      <td>37.486660</td>\n",
       "      <td>127.010803</td>\n",
       "      <td>870.179020</td>\n",
       "      <td>98.60</td>\n",
       "    </tr>\n",
       "    <tr>\n",
       "      <td>487</td>\n",
       "      <td>미즈컨테이너 강남웨스트점</td>\n",
       "      <td>양식</td>\n",
       "      <td>서초동 1316-29</td>\n",
       "      <td>3.4</td>\n",
       "      <td>603</td>\n",
       "      <td>354</td>\n",
       "      <td>37.498270</td>\n",
       "      <td>127.025215</td>\n",
       "      <td>1369.162723</td>\n",
       "      <td>88.51</td>\n",
       "    </tr>\n",
       "  </tbody>\n",
       "</table>\n",
       "</div>"
      ],
      "text/plain": [
       "               name category      address  score  eval_cnt  review_cnt  \\\n",
       "497   크래프트아일랜드 강남역점  호프,요리주점  서초동 1317-32    4.8       173         292   \n",
       "1352   크래버 대게나라 서초점     게,대게  서초동 1582-16    4.8       166         101   \n",
       "487   미즈컨테이너 강남웨스트점       양식  서초동 1316-29    3.4       603         354   \n",
       "\n",
       "            lat         lng     distance     ZMS  \n",
       "497   37.498478  127.025597  1401.450583  100.00  \n",
       "1352  37.486660  127.010803   870.179020   98.60  \n",
       "487   37.498270  127.025215  1369.162723   88.51  "
      ]
     },
     "execution_count": 245,
     "metadata": {},
     "output_type": "execute_result"
    }
   ],
   "source": [
    "# 별점과 log(평가 수)를 곱함\n",
    "df['ZMS'] = df.score * np.log(df.eval_cnt)\n",
    "\n",
    "# 이후 review_cnt를 스케일링하여 가산점 부여\n",
    "df['ZMS'] += (np.log(df.review_cnt+1) - min(np.log(df.review_cnt+1))) / \\\n",
    "    (max(np.log(df.review_cnt+1)) - min(np.log(df.review_cnt+1)))\n",
    "\n",
    "# ZMS를 0~100 범위로 스케일링\n",
    "df['ZMS'] = round(df.ZMS / max(df.ZMS) * 100, 2)\n",
    "\n",
    "df.head(3)"
   ]
  },
  {
   "cell_type": "code",
   "execution_count": 246,
   "metadata": {
    "ExecuteTime": {
     "end_time": "2020-07-01T03:45:00.395639Z",
     "start_time": "2020-07-01T03:45:00.367712Z"
    }
   },
   "outputs": [
    {
     "data": {
      "text/html": [
       "<div>\n",
       "<style scoped>\n",
       "    .dataframe tbody tr th:only-of-type {\n",
       "        vertical-align: middle;\n",
       "    }\n",
       "\n",
       "    .dataframe tbody tr th {\n",
       "        vertical-align: top;\n",
       "    }\n",
       "\n",
       "    .dataframe thead th {\n",
       "        text-align: right;\n",
       "    }\n",
       "</style>\n",
       "<table border=\"1\" class=\"dataframe\">\n",
       "  <thead>\n",
       "    <tr style=\"text-align: right;\">\n",
       "      <th></th>\n",
       "      <th>name</th>\n",
       "      <th>category</th>\n",
       "      <th>address</th>\n",
       "      <th>score</th>\n",
       "      <th>eval_cnt</th>\n",
       "      <th>review_cnt</th>\n",
       "      <th>lat</th>\n",
       "      <th>lng</th>\n",
       "      <th>distance</th>\n",
       "      <th>ZMS</th>\n",
       "    </tr>\n",
       "  </thead>\n",
       "  <tbody>\n",
       "    <tr>\n",
       "      <td>0</td>\n",
       "      <td>크래프트아일랜드 강남역점</td>\n",
       "      <td>호프,요리주점</td>\n",
       "      <td>서초동 1317-32</td>\n",
       "      <td>4.8</td>\n",
       "      <td>173</td>\n",
       "      <td>292</td>\n",
       "      <td>37.498478</td>\n",
       "      <td>127.025597</td>\n",
       "      <td>1401.450583</td>\n",
       "      <td>100.00</td>\n",
       "    </tr>\n",
       "    <tr>\n",
       "      <td>1</td>\n",
       "      <td>크래버 대게나라 서초점</td>\n",
       "      <td>게,대게</td>\n",
       "      <td>서초동 1582-16</td>\n",
       "      <td>4.8</td>\n",
       "      <td>166</td>\n",
       "      <td>101</td>\n",
       "      <td>37.486660</td>\n",
       "      <td>127.010803</td>\n",
       "      <td>870.179020</td>\n",
       "      <td>98.60</td>\n",
       "    </tr>\n",
       "    <tr>\n",
       "      <td>2</td>\n",
       "      <td>미즈컨테이너 강남웨스트점</td>\n",
       "      <td>양식</td>\n",
       "      <td>서초동 1316-29</td>\n",
       "      <td>3.4</td>\n",
       "      <td>603</td>\n",
       "      <td>354</td>\n",
       "      <td>37.498270</td>\n",
       "      <td>127.025215</td>\n",
       "      <td>1369.162723</td>\n",
       "      <td>88.51</td>\n",
       "    </tr>\n",
       "  </tbody>\n",
       "</table>\n",
       "</div>"
      ],
      "text/plain": [
       "            name category      address  score  eval_cnt  review_cnt  \\\n",
       "0  크래프트아일랜드 강남역점  호프,요리주점  서초동 1317-32    4.8       173         292   \n",
       "1   크래버 대게나라 서초점     게,대게  서초동 1582-16    4.8       166         101   \n",
       "2  미즈컨테이너 강남웨스트점       양식  서초동 1316-29    3.4       603         354   \n",
       "\n",
       "         lat         lng     distance     ZMS  \n",
       "0  37.498478  127.025597  1401.450583  100.00  \n",
       "1  37.486660  127.010803   870.179020   98.60  \n",
       "2  37.498270  127.025215  1369.162723   88.51  "
      ]
     },
     "execution_count": 246,
     "metadata": {},
     "output_type": "execute_result"
    }
   ],
   "source": [
    "df.sort_values('ZMS', ascending=False, inplace=True)\n",
    "df.reset_index(drop=True, inplace=True)\n",
    "df.head(3)"
   ]
  },
  {
   "cell_type": "code",
   "execution_count": 247,
   "metadata": {
    "ExecuteTime": {
     "end_time": "2020-07-01T03:45:26.592634Z",
     "start_time": "2020-07-01T03:45:26.580665Z"
    }
   },
   "outputs": [
    {
     "data": {
      "text/plain": [
       "count    1420.000000\n",
       "mean       32.778915\n",
       "std        13.527794\n",
       "min         6.060000\n",
       "25%        23.557500\n",
       "50%        30.460000\n",
       "75%        39.520000\n",
       "max       100.000000\n",
       "Name: ZMS, dtype: float64"
      ]
     },
     "execution_count": 247,
     "metadata": {},
     "output_type": "execute_result"
    }
   ],
   "source": [
    "df.ZMS.describe()"
   ]
  },
  {
   "cell_type": "code",
   "execution_count": 250,
   "metadata": {
    "ExecuteTime": {
     "end_time": "2020-07-01T03:47:01.637639Z",
     "start_time": "2020-07-01T03:47:01.282588Z"
    }
   },
   "outputs": [
    {
     "data": {
      "text/plain": [
       "<matplotlib.axes._subplots.AxesSubplot at 0x23c44ae5c88>"
      ]
     },
     "execution_count": 250,
     "metadata": {},
     "output_type": "execute_result"
    },
    {
     "data": {
      "image/png": "[encoded data removed]",
      "text/plain": [
       "<Figure size 432x288 with 1 Axes>"
      ]
     },
     "metadata": {
      "needs_background": "light"
     },
     "output_type": "display_data"
    }
   ],
   "source": [
    "sns.distplot(df.ZMS)"
   ]
  },
  {
   "cell_type": "code",
   "execution_count": 251,
   "metadata": {
    "ExecuteTime": {
     "end_time": "2020-07-01T03:47:48.501435Z",
     "start_time": "2020-07-01T03:47:48.464507Z"
    }
   },
   "outputs": [],
   "source": [
    "df.to_csv('source/Restaurant_analysis_miniproject/restaurant_ZMS_200701.csv', index=False)"
   ]
  },
  {
   "cell_type": "code",
   "execution_count": 252,
   "metadata": {
    "ExecuteTime": {
     "end_time": "2020-07-01T03:48:04.808859Z",
     "start_time": "2020-07-01T03:48:04.776913Z"
    }
   },
   "outputs": [],
   "source": [
    "df = pd.read_csv('source/Restaurant_analysis_miniproject/restaurant_ZMS_200701.csv')"
   ]
  }
 ],
 "metadata": {
  "kernelspec": {
   "display_name": "Python 3",
   "language": "python",
   "name": "python3"
  },
  "language_info": {
   "codemirror_mode": {
    "name": "ipython",
    "version": 3
   },
   "file_extension": ".py",
   "mimetype": "text/x-python",
   "name": "python",
   "nbconvert_exporter": "python",
   "pygments_lexer": "ipython3",
   "version": "3.7.4"
  },
  "toc": {
   "base_numbering": 1,
   "nav_menu": {},
   "number_sections": false,
   "sideBar": true,
   "skip_h1_title": true,
   "title_cell": "Table of Contents",
   "title_sidebar": "Contents",
   "toc_cell": true,
   "toc_position": {
    "height": "740px",
    "left": "1717px",
    "top": "178px",
    "width": "203px"
   },
   "toc_section_display": true,
   "toc_window_display": true
  }
 },
 "nbformat": 4,
 "nbformat_minor": 2
}
